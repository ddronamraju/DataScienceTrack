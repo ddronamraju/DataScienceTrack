{
 "cells": [
  {
   "cell_type": "markdown",
   "metadata": {},
   "source": [
    "#  <font color='blue'>Why are the best and most experienced employees leaving? </font>\n",
    "Data ranging Notebook\n",
    "Dataset is from: https://www.kaggle.com/ludobenistant/hr-analytics\n",
    "Data visualization using Python packages: Numpy,Pandas,Seaborn,Plotly and Matplotlib"
   ]
  },
  {
   "cell_type": "code",
   "execution_count": 1,
   "metadata": {
    "collapsed": true
   },
   "outputs": [],
   "source": [
    "# Import packages\n",
    "import pandas as pd\n",
    "import numpy as np\n",
    "import re\n",
    "\n",
    "%matplotlib inline\n",
    "\n",
    "#load dataset\n",
    "hr = pd.read_csv('C:\\\\Users\\\\dxd4380\\\\Documents\\\\personal\\\\Programming samples\\\\Python\\\\1.Data Viz- HR Analytics\\\\HR_comma_sep.csv')\n",
    "#hr = pd.DataFrame.from_csv('../1.Data Viz- HR Analytics/HR_comma_sep.csv', index_col=None)"
   ]
  },
  {
   "cell_type": "markdown",
   "metadata": {},
   "source": [
    "### How many rows and columns in this dataset?"
   ]
  },
  {
   "cell_type": "code",
   "execution_count": 2,
   "metadata": {
    "collapsed": false,
    "scrolled": true
   },
   "outputs": [
    {
     "name": "stdout",
     "output_type": "stream",
     "text": [
      "Number of rows in this dataset is 14999 and number of columns is 10\n"
     ]
    }
   ],
   "source": [
    "# Initial investigation\n",
    "sh=hr.shape\n",
    "print(\"Number of rows in this dataset is {} and number of columns is {}\".format(hr.shape[0],hr.shape[1]))"
   ]
  },
  {
   "cell_type": "markdown",
   "metadata": {},
   "source": [
    "### If any of the columns below have values less than the number of rows, it indicates missing data"
   ]
  },
  {
   "cell_type": "code",
   "execution_count": 3,
   "metadata": {
    "collapsed": false
   },
   "outputs": [
    {
     "name": "stdout",
     "output_type": "stream",
     "text": [
      "<class 'pandas.core.frame.DataFrame'>\n",
      "RangeIndex: 14999 entries, 0 to 14998\n",
      "Data columns (total 10 columns):\n",
      "satisfaction_level       14999 non-null float64\n",
      "last_evaluation          14999 non-null float64\n",
      "number_project           14999 non-null int64\n",
      "average_montly_hours     14999 non-null int64\n",
      "time_spend_company       14999 non-null int64\n",
      "Work_accident            14999 non-null int64\n",
      "left                     14999 non-null int64\n",
      "promotion_last_5years    14999 non-null int64\n",
      "sales                    14999 non-null object\n",
      "salary                   14999 non-null object\n",
      "dtypes: float64(2), int64(6), object(2)\n",
      "memory usage: 1.1+ MB\n",
      "None\n"
     ]
    }
   ],
   "source": [
    "print(hr.info())"
   ]
  },
  {
   "cell_type": "markdown",
   "metadata": {},
   "source": [
    "### Conclusion: <font color='red'>There is no missing data in this dataset</font>"
   ]
  },
  {
   "cell_type": "code",
   "execution_count": 4,
   "metadata": {
    "collapsed": false,
    "scrolled": false
   },
   "outputs": [
    {
     "data": {
      "text/html": [
       "<div>\n",
       "<table border=\"1\" class=\"dataframe\">\n",
       "  <thead>\n",
       "    <tr style=\"text-align: right;\">\n",
       "      <th></th>\n",
       "      <th>satisfaction_level</th>\n",
       "      <th>last_evaluation</th>\n",
       "      <th>number_project</th>\n",
       "      <th>average_montly_hours</th>\n",
       "      <th>time_spend_company</th>\n",
       "      <th>Work_accident</th>\n",
       "      <th>left</th>\n",
       "      <th>promotion_last_5years</th>\n",
       "      <th>sales</th>\n",
       "      <th>salary</th>\n",
       "    </tr>\n",
       "  </thead>\n",
       "  <tbody>\n",
       "    <tr>\n",
       "      <th>14994</th>\n",
       "      <td>0.40</td>\n",
       "      <td>0.57</td>\n",
       "      <td>2</td>\n",
       "      <td>151</td>\n",
       "      <td>3</td>\n",
       "      <td>0</td>\n",
       "      <td>1</td>\n",
       "      <td>0</td>\n",
       "      <td>support</td>\n",
       "      <td>low</td>\n",
       "    </tr>\n",
       "    <tr>\n",
       "      <th>14995</th>\n",
       "      <td>0.37</td>\n",
       "      <td>0.48</td>\n",
       "      <td>2</td>\n",
       "      <td>160</td>\n",
       "      <td>3</td>\n",
       "      <td>0</td>\n",
       "      <td>1</td>\n",
       "      <td>0</td>\n",
       "      <td>support</td>\n",
       "      <td>low</td>\n",
       "    </tr>\n",
       "    <tr>\n",
       "      <th>14996</th>\n",
       "      <td>0.37</td>\n",
       "      <td>0.53</td>\n",
       "      <td>2</td>\n",
       "      <td>143</td>\n",
       "      <td>3</td>\n",
       "      <td>0</td>\n",
       "      <td>1</td>\n",
       "      <td>0</td>\n",
       "      <td>support</td>\n",
       "      <td>low</td>\n",
       "    </tr>\n",
       "    <tr>\n",
       "      <th>14997</th>\n",
       "      <td>0.11</td>\n",
       "      <td>0.96</td>\n",
       "      <td>6</td>\n",
       "      <td>280</td>\n",
       "      <td>4</td>\n",
       "      <td>0</td>\n",
       "      <td>1</td>\n",
       "      <td>0</td>\n",
       "      <td>support</td>\n",
       "      <td>low</td>\n",
       "    </tr>\n",
       "    <tr>\n",
       "      <th>14998</th>\n",
       "      <td>0.37</td>\n",
       "      <td>0.52</td>\n",
       "      <td>2</td>\n",
       "      <td>158</td>\n",
       "      <td>3</td>\n",
       "      <td>0</td>\n",
       "      <td>1</td>\n",
       "      <td>0</td>\n",
       "      <td>support</td>\n",
       "      <td>low</td>\n",
       "    </tr>\n",
       "  </tbody>\n",
       "</table>\n",
       "</div>"
      ],
      "text/plain": [
       "       satisfaction_level  last_evaluation  number_project  \\\n",
       "14994                0.40             0.57               2   \n",
       "14995                0.37             0.48               2   \n",
       "14996                0.37             0.53               2   \n",
       "14997                0.11             0.96               6   \n",
       "14998                0.37             0.52               2   \n",
       "\n",
       "       average_montly_hours  time_spend_company  Work_accident  left  \\\n",
       "14994                   151                   3              0     1   \n",
       "14995                   160                   3              0     1   \n",
       "14996                   143                   3              0     1   \n",
       "14997                   280                   4              0     1   \n",
       "14998                   158                   3              0     1   \n",
       "\n",
       "       promotion_last_5years    sales salary  \n",
       "14994                      0  support    low  \n",
       "14995                      0  support    low  \n",
       "14996                      0  support    low  \n",
       "14997                      0  support    low  \n",
       "14998                      0  support    low  "
      ]
     },
     "execution_count": 4,
     "metadata": {},
     "output_type": "execute_result"
    }
   ],
   "source": [
    "hr.head()\n",
    "hr.tail()"
   ]
  },
  {
   "cell_type": "markdown",
   "metadata": {},
   "source": [
    "### Is the data Tidy?\n",
    "Here are the principles of Tidy data\n",
    "* Columns represent separate variables\n",
    "* Rows represent individual observations\n",
    "* Observational units form tables"
   ]
  },
  {
   "cell_type": "markdown",
   "metadata": {},
   "source": [
    "### Conclusion: <font color='red'>Data is tidy</font>"
   ]
  },
  {
   "cell_type": "markdown",
   "metadata": {},
   "source": [
    "### Column header formatting"
   ]
  },
  {
   "cell_type": "code",
   "execution_count": 5,
   "metadata": {
    "collapsed": false
   },
   "outputs": [
    {
     "ename": "SyntaxError",
     "evalue": "invalid syntax (<ipython-input-5-d7291cc41720>, line 3)",
     "output_type": "error",
     "traceback": [
      "\u001b[0;36m  File \u001b[0;32m\"<ipython-input-5-d7291cc41720>\"\u001b[0;36m, line \u001b[0;32m3\u001b[0m\n\u001b[0;31m    'time_spend_company': 'Time_Spend_Company','Work_accident':'Work_Accident','left':'Left','promotion_last_5years','Promotion_Last_5_Years','sales':'Department','salary':'Salary'})\u001b[0m\n\u001b[0m                                                                                                                    ^\u001b[0m\n\u001b[0;31mSyntaxError\u001b[0m\u001b[0;31m:\u001b[0m invalid syntax\n"
     ]
    }
   ],
   "source": [
    "hr = hr.rename(columns={'satisfaction_level': 'Satisfaction_Level', 'last_evaluation': 'Last_Evaluation',\n",
    "'average_montly_hours': 'Average_Monthly_Hours', 'number_project': 'Number_of_Projects',\n",
    "'time_spend_company': 'Time_Spend_Company','Work_accident':'Work_Accident','left':'Left','promotion_last_5years','Promotion_Last_5_Years','sales':'Department','salary':'Salary'})\n"
   ]
  },
  {
   "cell_type": "markdown",
   "metadata": {},
   "source": [
    "### Classify types of data"
   ]
  },
  {
   "cell_type": "markdown",
   "metadata": {},
   "source": [
    "### Quantitative:\n",
    "* <font color='red'>Continuous variables: Satisfaction_Level, Last_Evaluation, Average_Monthly_Hours</font> \n",
    "* <font color='red'>Discrete: Average_Monthly_Hours, Time_Spend_Company, Number_of_Projects</font>\n",
    "\n",
    "### Qualitative/ Categorical:\n",
    "* <font color='red'>Binary:Work_Accident, Left, Promotion_Last_5_Years</font>\n",
    "* <font color='red'>Unordered/Nominal: Department</font>\n",
    "* <font color='red'>Ordered/Ordinal: Salary</font>\n",
    "\n",
    "\n",
    "### To understand differences between different types of data, please read:\n",
    "http://blog.minitab.com/blog/understanding-statistics/understanding-qualitative-quantitative-attribute-discrete-and-continuous-data-types"
   ]
  },
  {
   "cell_type": "markdown",
   "metadata": {},
   "source": [
    "### Convert columns into appropriate data types\n",
    "Converting qualitative variables into categories reduces size of the file"
   ]
  },
  {
   "cell_type": "code",
   "execution_count": null,
   "metadata": {
    "collapsed": false
   },
   "outputs": [],
   "source": [
    "hr.Work_accident = hr.Work_Accident.astype('category')\n",
    "hr.Left = hr.Left.astype('category')\n",
    "hr.Promotion_Last_5_Years = hr.Promotion_Last_5_Years.astype('category')\n",
    "hr.Department = hr.Department.astype('category')\n",
    "hr.Salary = hr.Salary.astype('category')"
   ]
  },
  {
   "cell_type": "markdown",
   "metadata": {},
   "source": [
    "### Conclusion: <font color='red'>Rounded off Satisfaction Level to 1 decimal point to make the data discrete</font>"
   ]
  },
  {
   "cell_type": "markdown",
   "metadata": {},
   "source": [
    "### Check data formats"
   ]
  },
  {
   "cell_type": "code",
   "execution_count": null,
   "metadata": {
    "collapsed": false
   },
   "outputs": [],
   "source": [
    "# Create the series \n",
    "saisfaction_levels=hr['Satisfaction_Level'].astype(str)\n",
    "\n",
    "# Drop all the duplicates \n",
    "saisfaction_levels  = saisfaction_levels.drop_duplicates()\n",
    "\n",
    "# Write the regular expression: pattern\n",
    "pattern = '^\\d*\\.\\d{2}$'\n",
    "\n",
    "# Create the Boolean vector: mask\n",
    "mask = saisfaction_levels.str.contains(pattern)\n",
    "\n",
    "# Invert the mask: mask_inverse\n",
    "mask_inverse = ~mask\n",
    "\n",
    "# Subset countries using mask_inverse: invalid\n",
    "invalid_saisfaction_levels = saisfaction_levels.loc[mask_inverse]\n",
    "\n",
    "# Print invalid\n",
    "print(invalid_saisfaction_levels)"
   ]
  },
  {
   "cell_type": "code",
   "execution_count": null,
   "metadata": {
    "collapsed": false
   },
   "outputs": [],
   "source": [
    "monthly_hours=hr['Average_Monthly_Hours'].astype(str)\n",
    "\n",
    "# Drop all the duplicates \n",
    "monthly_hours  = monthly_hours.drop_duplicates()\n",
    "\n",
    "# Write the regular expression: pattern\n",
    "pattern = '^\\d*$'\n",
    "\n",
    "# Create the Boolean vector: mask\n",
    "mask = monthly_hours.str.contains(pattern)\n",
    "\n",
    "# Invert the mask: mask_inverse\n",
    "mask_inverse = ~mask\n",
    "\n",
    "# Subset countries using mask_inverse: invalid\n",
    "invalid_monthly_hours = monthly_hours.loc[mask_inverse]\n",
    "\n",
    "# Print invalid\n",
    "print(invalid_monthly_hours)"
   ]
  },
  {
   "cell_type": "markdown",
   "metadata": {
    "collapsed": true
   },
   "source": [
    "### Investigate data formats of all columns except the Continuous variables"
   ]
  },
  {
   "cell_type": "code",
   "execution_count": null,
   "metadata": {
    "collapsed": false
   },
   "outputs": [],
   "source": [
    "print(hr['Satisfaction_Level'].value_counts(dropna=False))\n",
    "print(hr['Number_of_Projects'].value_counts(dropna=False))\n",
    "print(hr['Time_Spend_Company'].value_counts(dropna=False))\n",
    "print(hr['Work_Accident'].value_counts(dropna=False))\n",
    "print(hr['Left'].value_counts(dropna=False))\n",
    "print(hr['Sales'].value_counts(dropna=False))\n",
    "print(hr['Salary'].value_counts(dropna=False))\n"
   ]
  },
  {
   "cell_type": "markdown",
   "metadata": {},
   "source": [
    "### Conclusion:\n",
    "* Outliers:<font color='red'>No outliers found</font>\n",
    "* <font color='red'>Implement case formatting in sales and salary columns </font>\n",
    "* <font color='red'>Rename column sales as \"Department\" </font>"
   ]
  },
  {
   "cell_type": "markdown",
   "metadata": {},
   "source": [
    "### Column Data Formatting"
   ]
  },
  {
   "cell_type": "code",
   "execution_count": null,
   "metadata": {
    "collapsed": false
   },
   "outputs": [],
   "source": [
    "hr['Sales']=hr.sales.str.title()\n",
    "hr['Salary']=hr.salary.str.title()"
   ]
  },
  {
   "cell_type": "markdown",
   "metadata": {
    "collapsed": true
   },
   "source": [
    "### Conclusion: <font color='red'>All columns have appropriate formats</font>"
   ]
  },
  {
   "cell_type": "markdown",
   "metadata": {},
   "source": [
    "### View summary statistics to check if the values fall in the normal range"
   ]
  },
  {
   "cell_type": "code",
   "execution_count": null,
   "metadata": {
    "collapsed": false
   },
   "outputs": [],
   "source": [
    "hr.describe()"
   ]
  },
  {
   "cell_type": "markdown",
   "metadata": {},
   "source": [
    "### Conclusion:<font color='red'> All numeric columns seem to fall in the normal range</font>"
   ]
  }
 ],
 "metadata": {
  "kernelspec": {
   "display_name": "Python 3",
   "language": "python",
   "name": "python3"
  },
  "language_info": {
   "codemirror_mode": {
    "name": "ipython",
    "version": 3
   },
   "file_extension": ".py",
   "mimetype": "text/x-python",
   "name": "python",
   "nbconvert_exporter": "python",
   "pygments_lexer": "ipython3",
   "version": "3.6.0"
  }
 },
 "nbformat": 4,
 "nbformat_minor": 2
}
