{
 "cells": [
  {
   "cell_type": "markdown",
   "metadata": {},
   "source": [
    "# What is the True Normal Human Body Temperature? \n",
    "\n",
    "#### Background\n",
    "\n",
    "The mean normal body temperature was held to be 37$^{\\circ}$C or 98.6$^{\\circ}$F for more than 120 years since it was first conceptualized and reported by Carl Wunderlich in a famous 1868 book. But, is this value statistically correct?"
   ]
  },
  {
   "cell_type": "markdown",
   "metadata": {},
   "source": [
    "<h3>Exercises</h3>\n",
    "\n",
    "<p>In this exercise, you will analyze a dataset of human body temperatures and employ the concepts of hypothesis testing, confidence intervals, and statistical significance.</p>\n",
    "\n",
    "<p>Answer the following questions <b>in this notebook below and submit to your Github account</b>.</p> \n",
    "\n",
    "<ol>\n",
    "<li>  Is the distribution of body temperatures normal? \n",
    "    <ul>\n",
    "    <li> Although this is not a requirement for CLT to hold (read CLT carefully), it gives us some peace of mind that the population may also be normally distributed if we assume that this sample is representative of the population.\n",
    "    </ul>\n",
    "<li>  Is the sample size large? Are the observations independent?\n",
    "    <ul>\n",
    "    <li> Remember that this is a condition for the CLT, and hence the statistical tests we are using, to apply.\n",
    "    </ul>\n",
    "<li>  Is the true population mean really 98.6 degrees F?\n",
    "    <ul>\n",
    "    <li> Would you use a one-sample or two-sample test? Why?\n",
    "    <li> In this situation, is it appropriate to use the $t$ or $z$ statistic? \n",
    "    <li> Now try using the other test. How is the result be different? Why?\n",
    "    </ul>\n",
    "<li>  Draw a small sample of size 10 from the data and repeat both tests. \n",
    "    <ul>\n",
    "    <li> Which one is the correct one to use? \n",
    "    <li> What do you notice? What does this tell you about the difference in application of the $t$ and $z$ statistic?\n",
    "    </ul>\n",
    "<li>  At what temperature should we consider someone's temperature to be \"abnormal\"?\n",
    "    <ul>\n",
    "    <li> Start by computing the margin of error and confidence interval.\n",
    "    </ul>\n",
    "<li>  Is there a significant difference between males and females in normal temperature?\n",
    "    <ul>\n",
    "    <li> What test did you use and why?\n",
    "    <li> Write a story with your conclusion in the context of the original problem.\n",
    "    </ul>\n",
    "</ol>\n",
    "\n",
    "You can include written notes in notebook cells using Markdown: \n",
    "   - In the control panel at the top, choose Cell > Cell Type > Markdown\n",
    "   - Markdown syntax: http://nestacms.com/docs/creating-content/markdown-cheat-sheet\n",
    "\n",
    "#### Resources\n",
    "\n",
    "+ Information and data sources: http://www.amstat.org/publications/jse/datasets/normtemp.txt, http://www.amstat.org/publications/jse/jse_data_archive.htm\n",
    "+ Markdown syntax: http://nestacms.com/docs/creating-content/markdown-cheat-sheet\n",
    "\n",
    "****"
   ]
  },
  {
   "cell_type": "code",
   "execution_count": 1,
   "metadata": {
    "collapsed": false
   },
   "outputs": [],
   "source": [
    "# Import numpy\n",
    "import numpy as np\n",
    "import matplotlib.pyplot as plt\n",
    "import scipy as spy\n",
    "from scipy import stats"
   ]
  },
  {
   "cell_type": "code",
   "execution_count": 2,
   "metadata": {
    "collapsed": true
   },
   "outputs": [],
   "source": [
    "import pandas as pd\n",
    "\n",
    "df = pd.read_csv('data/human_body_temperature.csv')"
   ]
  },
  {
   "cell_type": "markdown",
   "metadata": {},
   "source": [
    "### 1. Is the distribution of body temperatures normal?\n",
    "\n",
    "    Although this is not a requirement for CLT to hold (read CLT carefully), it gives us some peace of mind that the population may also be normally distributed if we assume that this sample is representative of the population. "
   ]
  },
  {
   "cell_type": "code",
   "execution_count": 3,
   "metadata": {
    "collapsed": false
   },
   "outputs": [
    {
     "data": {
      "text/html": [
       "<div>\n",
       "<table border=\"1\" class=\"dataframe\">\n",
       "  <thead>\n",
       "    <tr style=\"text-align: right;\">\n",
       "      <th></th>\n",
       "      <th>temperature</th>\n",
       "      <th>gender</th>\n",
       "      <th>heart_rate</th>\n",
       "    </tr>\n",
       "  </thead>\n",
       "  <tbody>\n",
       "    <tr>\n",
       "      <th>0</th>\n",
       "      <td>99.3</td>\n",
       "      <td>F</td>\n",
       "      <td>68.0</td>\n",
       "    </tr>\n",
       "    <tr>\n",
       "      <th>1</th>\n",
       "      <td>98.4</td>\n",
       "      <td>F</td>\n",
       "      <td>81.0</td>\n",
       "    </tr>\n",
       "    <tr>\n",
       "      <th>2</th>\n",
       "      <td>97.8</td>\n",
       "      <td>M</td>\n",
       "      <td>73.0</td>\n",
       "    </tr>\n",
       "    <tr>\n",
       "      <th>3</th>\n",
       "      <td>99.2</td>\n",
       "      <td>F</td>\n",
       "      <td>66.0</td>\n",
       "    </tr>\n",
       "    <tr>\n",
       "      <th>4</th>\n",
       "      <td>98.0</td>\n",
       "      <td>F</td>\n",
       "      <td>73.0</td>\n",
       "    </tr>\n",
       "  </tbody>\n",
       "</table>\n",
       "</div>"
      ],
      "text/plain": [
       "   temperature gender  heart_rate\n",
       "0         99.3      F        68.0\n",
       "1         98.4      F        81.0\n",
       "2         97.8      M        73.0\n",
       "3         99.2      F        66.0\n",
       "4         98.0      F        73.0"
      ]
     },
     "execution_count": 3,
     "metadata": {},
     "output_type": "execute_result"
    }
   ],
   "source": [
    "df.head()"
   ]
  },
  {
   "cell_type": "code",
   "execution_count": 4,
   "metadata": {
    "collapsed": false
   },
   "outputs": [
    {
     "data": {
      "text/plain": [
       "(130, 3)"
      ]
     },
     "execution_count": 4,
     "metadata": {},
     "output_type": "execute_result"
    }
   ],
   "source": [
    "df.shape"
   ]
  },
  {
   "cell_type": "code",
   "execution_count": 5,
   "metadata": {
    "collapsed": false
   },
   "outputs": [
    {
     "name": "stdout",
     "output_type": "stream",
     "text": [
      "11.0\n"
     ]
    },
    {
     "name": "stderr",
     "output_type": "stream",
     "text": [
      "C:\\Users\\dxd4380\\AppData\\Local\\Continuum\\Anaconda3\\lib\\site-packages\\numpy\\lib\\function_base.py:564: VisibleDeprecationWarning: using a non-integer number instead of an integer will result in an error in the future\n",
      "  n = np.zeros(bins, ntype)\n",
      "C:\\Users\\dxd4380\\AppData\\Local\\Continuum\\Anaconda3\\lib\\site-packages\\numpy\\lib\\function_base.py:611: VisibleDeprecationWarning: using a non-integer number instead of an integer will result in an error in the future\n",
      "  n += np.bincount(indices, weights=tmp_w, minlength=bins).astype(ntype)\n"
     ]
    },
    {
     "data": {
      "image/png": "[encoded data removed]",
      "text/plain": [
       "<matplotlib.figure.Figure at 0xa05a160>"
      ]
     },
     "metadata": {},
     "output_type": "display_data"
    }
   ],
   "source": [
    "#Use square root rule to choose number of bins\n",
    "n_bins = np.round_(np.sqrt(len(df['temperature'])),decimals=0)\n",
    "print(n_bins)\n",
    "plt.hist(df['temperature'], bins=n_bins, normed=True, histtype='step')\n",
    "\n",
    "plt.show()"
   ]
  },
  {
   "cell_type": "markdown",
   "metadata": {
    "collapsed": true
   },
   "source": [
    "The distribution does not look to be normal"
   ]
  },
  {
   "cell_type": "markdown",
   "metadata": {},
   "source": [
    "### 2. Is the sample size large? Are the observations independent?\n",
    "\n",
    "    Remember that this is a condition for the CLT, and hence the statistical tests we are using, to apply. "
   ]
  },
  {
   "cell_type": "markdown",
   "metadata": {},
   "source": [
    " Central limit theorem applies as the sample size is quite larger than 30. Hence, the mean of the sampling distribution of the sample proportion is going to be close to the population mean."
   ]
  },
  {
   "cell_type": "markdown",
   "metadata": {},
   "source": [
    "### 3. Is the true population mean really 98.6 degrees F?\n",
    "\n",
    "    Would you use a one-sample or two-sample test? Why?\n",
    "    In this situation, is it appropriate to use the tt or zz statistic?\n",
    "    Now try using the other test. How is the result be different? Why? "
   ]
  },
  {
   "cell_type": "markdown",
   "metadata": {},
   "source": [
    "In this case, one sample test would be used as we are comparing one set of data(from the 130 samples provided) to a single number(value reported by Carl Wunderlich in a famous 1868 book i.e. 37C or 98.6F)\n",
    "\n",
    "Z score is a better test since sample size is greater than 30.\n"
   ]
  },
  {
   "cell_type": "code",
   "execution_count": 14,
   "metadata": {
    "collapsed": false,
    "scrolled": true
   },
   "outputs": [
    {
     "name": "stdout",
     "output_type": "stream",
     "text": [
      "Z Score is: (-5.4548232923645195, 4.9021570141012155e-08)\n",
      "T Score is: Ttest_1sampResult(statistic=-5.4548232923645195, pvalue=2.4106320415561318e-07)\n"
     ]
    }
   ],
   "source": [
    "# Score (Same formula for T or Z) calculation using the mean from Carl Wunderlich\n",
    "# T = (X – μ) / [ s/√(n) ]\n",
    "\n",
    "from statsmodels.stats.weightstats import ztest\n",
    "print(\"Z Score is:\",ztest(df['temperature'],value=98.6,alternative='two-sided', usevar='pooled', ddof=1.0))\n",
    "\n",
    "import scipy as spy\n",
    "from scipy import stats\n",
    "print(\"T Score is:\",spy.stats.mstats.ttest_1samp(df['temperature'],98.6))"
   ]
  },
  {
   "cell_type": "markdown",
   "metadata": {},
   "source": [
    "##### Both statistics indicate that is is not likely that the normal body temperature is 98.6 based on the sample data"
   ]
  },
  {
   "cell_type": "markdown",
   "metadata": {},
   "source": [
    "### 4. Draw a small sample of size 10 from the data and repeat both tests.\n",
    "\n",
    "    Which one is the correct one to use?\n",
    "    What do you notice? What does this tell you about the difference in application of the tt and zz statistic? "
   ]
  },
  {
   "cell_type": "code",
   "execution_count": 18,
   "metadata": {
    "collapsed": false
   },
   "outputs": [
    {
     "name": "stdout",
     "output_type": "stream",
     "text": [
      "Z Score is: (-3.0934479202257976, 0.0019784527476214603)\n",
      "T Score is: Ttest_1sampResult(statistic=-3.0934479202257976, pvalue=0.012857704604809369)\n"
     ]
    }
   ],
   "source": [
    "np.random.seed(42)\n",
    "sample = np.random.choice(df['temperature'], size=10)\n",
    "# T Score calculation using the mean from Carl Wunderlich\n",
    "# T = (X – μ) / [ s/√(n) ]\n",
    "# X = Sample mean\n",
    "#mu(μ)= Population mean\n",
    "#s= standard deviation of the sample\n",
    "\n",
    "from statsmodels.stats.weightstats import ztest\n",
    "print(\"Z Score is:\",ztest(sample,value=98.6, usevar='pooled', ddof=1.0))\n",
    "\n",
    "import scipy as spy\n",
    "from scipy import stats\n",
    "print(\"T Score is:\",spy.stats.mstats.ttest_1samp(sample,98.6))"
   ]
  },
  {
   "cell_type": "markdown",
   "metadata": {},
   "source": [
    "Since the sample size is 10, T statistic is a better test. The probability of observing body temperature value equally or more extreme than the population mean is 1.2%"
   ]
  },
  {
   "cell_type": "markdown",
   "metadata": {},
   "source": [
    "### 5. At what temperature should we consider someone's temperature to be \"abnormal\"?\n",
    "\n",
    "    Start by computing the margin of error and confidence interval. "
   ]
  },
  {
   "cell_type": "code",
   "execution_count": 20,
   "metadata": {
    "collapsed": false
   },
   "outputs": [
    {
     "data": {
      "text/plain": [
       "(98.122002905608028, 98.376458632853499)"
      ]
     },
     "execution_count": 20,
     "metadata": {},
     "output_type": "execute_result"
    }
   ],
   "source": [
    "import statsmodels.stats.api as sms\n",
    "sms.DescrStatsW((df['race']=='b')).tconfint_mean()"
   ]
  },
  {
   "cell_type": "markdown",
   "metadata": {},
   "source": [
    "##### Based on the sample if the body temperatures fall outside the above range, they can be considered abnormal"
   ]
  },
  {
   "cell_type": "markdown",
   "metadata": {},
   "source": [
    " ### Is there a significant difference between males and females in normal temperature?\n",
    "   <li> \n",
    "    <ul>\n",
    "    <li> What test did you use and why?\n",
    "    <li> Write a story with your conclusion in the context of the original problem.\n",
    "    </ul>"
   ]
  },
  {
   "cell_type": "markdown",
   "metadata": {},
   "source": [
    "Two sample T test can be used to test for difference between female and male temperatures\n",
    "Test null hypothesis: There is no difference between the temperatures of Males and Females\n",
    "\n",
    "Formula used to calculate the Z score is (Mean1-Mean2)/square root of((Variance 1/sample size 1)+(Variance 2/sample size 2))"
   ]
  },
  {
   "cell_type": "code",
   "execution_count": 26,
   "metadata": {
    "collapsed": false,
    "scrolled": true
   },
   "outputs": [
    {
     "name": "stdout",
     "output_type": "stream",
     "text": [
      "Z Score is: (-2.2854345381656103, 0.02228736076065755)\n"
     ]
    }
   ],
   "source": [
    "marr=np.array(df[(df['gender']=='M')]['temperature'])\n",
    "farr=np.array(df[(df['gender']=='F')]['temperature'])\n",
    "print(\"Z Score is:\",ztest(marr,farr,value=0,alternative='two-sided', usevar='pooled', ddof=1.0))"
   ]
  },
  {
   "cell_type": "markdown",
   "metadata": {},
   "source": [
    "##### For a Critical value of 0.05 on both sides of Z is 1.96. Z is less than 1.96 so the null hypothesis can be rejected. Men have temperature lower than women. "
   ]
  },
  {
   "cell_type": "markdown",
   "metadata": {},
   "source": [
    "Conclusion:\n",
    "    - The temperatures in the sample are not a true representation of the population as the population mean is outside the 95% confidence interval of the sample population.\n",
    "    - Based on the given sample, there is a siginificant difference between the temperatures of men and women."
   ]
  },
  {
   "cell_type": "markdown",
   "metadata": {},
   "source": [
    "Consulted Resources:\n",
    "\n",
    "Reference: Section 3, Bootstrap hypothesis tests<br>\n",
    "https://campus.datacamp.com/courses/statistical-thinking-in-python-part-2/introduction-to-hypothesis-testing?ex=1\n",
    "\n",
    "In the example, work of two scientists Michelson and Newcomb in the Average speed of light is compared. For Michelson's experiement the data is available and for Newcomb only the data is available.\n",
    "\n",
    "Central Limit theorem\n",
    "https://www.khanacademy.org/math/statistics-probability/sampling-distributions-library/sample-means/v/central-limit-theorem\n",
    "\n",
    "How much sample size is large enough for the sample mean to be normal?\n",
    "http://www.dummies.com/education/math/statistics/the-central-limit-theorem-whats-large-enough/\n",
    "\n",
    "What is the difference between t statistic and z statistic?\n",
    "https://www.khanacademy.org/math/statistics-probability/significance-tests-one-sample/tests-about-population-mean/v/z-statistics-vs-t-statistics\n",
    "\n",
    "http://www.statisticshowto.com/t-statistic/\n",
    "\n",
    "Margin of Error\n",
    "https://www.khanacademy.org/math/statistics-probability/confidence-intervals-one-sample/estimating-population-proportion/v/margin-of-error-1"
   ]
  },
  {
   "cell_type": "markdown",
   "metadata": {},
   "source": [
    "### Manual calculation of two sample T test"
   ]
  },
  {
   "cell_type": "code",
   "execution_count": 23,
   "metadata": {
    "collapsed": false
   },
   "outputs": [
    {
     "name": "stdout",
     "output_type": "stream",
     "text": [
      "Difference between temperatures of Males and Females from the Sample is -0.289230769231\n",
      "95% Confidence interval of the difference in means between Male and Female temperatures is between -0.5276125731325715 and -0.05084896532888247\n"
     ]
    }
   ],
   "source": [
    "#### Confidence interval of difference\n",
    "# Calculate difference in mean\n",
    "\n",
    "mu_m=np.mean(df[(df['gender']=='M')]['temperature'])\n",
    "mu_f=np.mean(df[(df['gender']=='F')]['temperature'])\n",
    "\n",
    "diff_mu=np.subtract(mu_m,mu_f)\n",
    "print(\"Difference between temperatures of Males and Females from the Sample is\",diff_mu)\n",
    "\n",
    "#Calculate standard deviation of the difference\n",
    "#Standard dev of difference=square root of (Variation of male temperatures + Variance of female temperatures)\n",
    "\n",
    "#Variance of male temperatures\n",
    "n1=df[(df['gender']=='M')].count()['temperature']\n",
    "var_m=np.var(df[(df['gender']=='M')]['temperature'])/n1\n",
    "n2=df[(df['gender']=='F')].count()['temperature']\n",
    "var_f=np.var(df[(df['gender']=='F')]['temperature'])/n2\n",
    "\n",
    "#Add both variances\n",
    "var_diff=np.add(var_m,var_m)\n",
    "\n",
    "#Calculate standard deviation as the square root of variance\n",
    "sd_diff=np.sqrt(var_diff)\n",
    "\n",
    "#calculate the 95% confidence interval\n",
    "#distance between the mean and the 97.5 percentile value\n",
    "d=np.multiply(1.96,sd_diff)\n",
    "\n",
    "#95% confidence interval point\n",
    "print(\"95% Confidence interval of the difference in means between Male and Female temperatures is between {} and {}\".format(np.subtract(diff_mu,d),np.add(diff_mu,d)))"
   ]
  },
  {
   "cell_type": "code",
   "execution_count": 25,
   "metadata": {
    "collapsed": false,
    "scrolled": true
   },
   "outputs": [
    {
     "name": "stdout",
     "output_type": "stream",
     "text": [
      "-0.289230769231\n"
     ]
    }
   ],
   "source": [
    "#Calculating the denominator\n",
    "\n",
    "z=diff_mu/np.sqrt(var_m+var_f)\n",
    "z\n",
    "print(diff_mu)"
   ]
  }
 ],
 "metadata": {
  "kernelspec": {
   "display_name": "Python 3",
   "language": "python",
   "name": "python3"
  },
  "language_info": {
   "codemirror_mode": {
    "name": "ipython",
    "version": 3
   },
   "file_extension": ".py",
   "mimetype": "text/x-python",
   "name": "python",
   "nbconvert_exporter": "python",
   "pygments_lexer": "ipython3",
   "version": "3.6.0"
  }
 },
 "nbformat": 4,
 "nbformat_minor": 1
}
