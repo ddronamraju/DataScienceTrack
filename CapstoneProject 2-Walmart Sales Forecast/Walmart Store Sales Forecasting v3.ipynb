{
 "cells": [
  {
   "cell_type": "markdown",
   "metadata": {},
   "source": [
    "### Introduction\n",
    "This dataset contains historical sales data including holiday promotion events. The goal of this project is to forecast sales for the stores. The data is available for download here: https://www.kaggle.com/c/walmart-recruiting-store-sales-forecasting"
   ]
  },
  {
   "cell_type": "code",
   "execution_count": 359,
   "metadata": {},
   "outputs": [],
   "source": [
    "import pandas as pd\n",
    "import numpy as np\n",
    "import matplotlib.pyplot as plt\n",
    "import matplotlib as matplot\n",
    "from matplotlib import font_manager as fm\n",
    "import seaborn as sns\n",
    "import scipy.stats\n",
    "import statsmodels.api as sm\n",
    "import pprint\n",
    "import warnings\n",
    "from sklearn.metrics import precision_recall_fscore_support\n",
    "from sklearn.metrics import precision_score\n",
    "from sklearn.metrics import recall_score\n",
    "from tabulate import tabulate\n",
    "from sklearn.metrics import mean_squared_error\n",
    "from math import sqrt\n",
    "from sklearn.metrics import mean_absolute_error\n",
    "from sklearn.metrics import mean_squared_error\n",
    "from sklearn.model_selection import train_test_split\n",
    "warnings.filterwarnings(\"ignore\")\n"
   ]
  },
  {
   "cell_type": "code",
   "execution_count": 253,
   "metadata": {},
   "outputs": [],
   "source": [
    "from fbprophet import Prophet"
   ]
  },
  {
   "cell_type": "markdown",
   "metadata": {},
   "source": [
    "### Data Exploration & Wrangling "
   ]
  },
  {
   "cell_type": "code",
   "execution_count": 254,
   "metadata": {},
   "outputs": [],
   "source": [
    "# Loading all files provided into dataframes\n",
    "features = pd.read_csv('C:\\\\Users\\\\divya\\\\Documents\\\\git\\\\DataScienceTrack\\\\CapstoneProject 2-Walmart Sales Forecast\\\\features.csv')\n",
    "stores = pd.read_csv('C:\\\\Users\\\\divya\\\\Documents\\\\git\\\\DataScienceTrack\\\\CapstoneProject 2-Walmart Sales Forecast\\\\stores.csv')\n",
    "test = pd.read_csv('C:\\\\Users\\\\divya\\\\Documents\\\\git\\\\DataScienceTrack\\\\CapstoneProject 2-Walmart Sales Forecast\\\\test.csv',parse_dates=['Date'])\n",
    "train = pd.read_csv('C:\\\\Users\\\\divya\\\\Documents\\\\git\\\\DataScienceTrack\\\\CapstoneProject 2-Walmart Sales Forecast\\\\train.csv',parse_dates=['Date'])\n",
    "sample_sub = pd.read_csv('C:\\\\Users\\\\divya\\\\Documents\\\\git\\\\DataScienceTrack\\\\CapstoneProject 2-Walmart Sales Forecast\\\\sample_submission.csv')"
   ]
  },
  {
   "cell_type": "code",
   "execution_count": 255,
   "metadata": {
    "scrolled": true
   },
   "outputs": [
    {
     "name": "stdout",
     "output_type": "stream",
     "text": [
      "   Store        Date  Temperature  Fuel_Price  MarkDown1  MarkDown2  \\\n",
      "0      1  2010-02-05        42.31       2.572        NaN        NaN   \n",
      "1      1  2010-02-12        38.51       2.548        NaN        NaN   \n",
      "2      1  2010-02-19        39.93       2.514        NaN        NaN   \n",
      "3      1  2010-02-26        46.63       2.561        NaN        NaN   \n",
      "4      1  2010-03-05        46.50       2.625        NaN        NaN   \n",
      "\n",
      "   MarkDown3  MarkDown4  MarkDown5         CPI  Unemployment  IsHoliday  \n",
      "0        NaN        NaN        NaN  211.096358         8.106      False  \n",
      "1        NaN        NaN        NaN  211.242170         8.106       True  \n",
      "2        NaN        NaN        NaN  211.289143         8.106      False  \n",
      "3        NaN        NaN        NaN  211.319643         8.106      False  \n",
      "4        NaN        NaN        NaN  211.350143         8.106      False  \n"
     ]
    }
   ],
   "source": [
    "print(features.head())"
   ]
  },
  {
   "cell_type": "markdown",
   "metadata": {},
   "source": [
    "Features file consists of the following columns\n",
    "- Store\n",
    "- Date\n",
    "- Temperature\n",
    "- Fuel Price\n",
    "- Mark downs ( up to 5)\n",
    "- CPI\n",
    "- Unemployment\n",
    "- Is Holiday\n",
    "\n",
    "Though this information is very useful for data exploration and storytelling, for the purpose of this project I will be doing a time series forecast for which these features may not be utilized. These features will be useful for a Linear regression model."
   ]
  },
  {
   "cell_type": "code",
   "execution_count": 256,
   "metadata": {
    "scrolled": true
   },
   "outputs": [
    {
     "name": "stdout",
     "output_type": "stream",
     "text": [
      "   Store Type    Size\n",
      "0      1    A  151315\n",
      "1      2    A  202307\n",
      "2      3    B   37392\n",
      "3      4    A  205863\n",
      "4      5    B   34875\n"
     ]
    }
   ],
   "source": [
    "print(stores.head())"
   ]
  },
  {
   "cell_type": "markdown",
   "metadata": {},
   "source": [
    "This information is useful for data storytelling and machine learning models, but for time series forecasting we will not be using this."
   ]
  },
  {
   "cell_type": "code",
   "execution_count": 257,
   "metadata": {
    "scrolled": false
   },
   "outputs": [
    {
     "name": "stdout",
     "output_type": "stream",
     "text": [
      "   Store  Dept       Date  Weekly_Sales  IsHoliday  Temperature  Fuel_Price  \\\n",
      "0     26    92 2011-08-26      87235.57      False        61.10       3.796   \n",
      "1     34    22 2011-03-25       5945.97      False        53.11       3.480   \n",
      "2     21    28 2010-12-03       1219.89      False        50.43       2.708   \n",
      "3      8     9 2010-09-17      11972.71      False        75.32       2.582   \n",
      "4     19    55 2012-05-18       8271.82      False        58.81       4.029   \n",
      "\n",
      "   MarkDown1  MarkDown2  MarkDown3  MarkDown4  MarkDown5         CPI  \\\n",
      "0        NaN        NaN        NaN        NaN        NaN  136.213613   \n",
      "1        NaN        NaN        NaN        NaN        NaN  128.616064   \n",
      "2        NaN        NaN        NaN        NaN        NaN  211.265543   \n",
      "3        NaN        NaN        NaN        NaN        NaN  214.878556   \n",
      "4   12613.98        NaN       11.5    1705.28    3600.79  138.106581   \n",
      "\n",
      "   Unemployment Type    Size  \n",
      "0         7.767    A  152513  \n",
      "1        10.398    A  158114  \n",
      "2         8.163    B  140167  \n",
      "3         6.315    A  155078  \n",
      "4         8.150    A  203819  \n"
     ]
    }
   ],
   "source": [
    "print(train.head())"
   ]
  },
  {
   "cell_type": "markdown",
   "metadata": {},
   "source": [
    "This dataset is useful as it contains Weekly forecast by Store and department which will be used in the time series forecast."
   ]
  },
  {
   "cell_type": "code",
   "execution_count": 258,
   "metadata": {},
   "outputs": [
    {
     "data": {
      "text/html": [
       "<div>\n",
       "<style scoped>\n",
       "    .dataframe tbody tr th:only-of-type {\n",
       "        vertical-align: middle;\n",
       "    }\n",
       "\n",
       "    .dataframe tbody tr th {\n",
       "        vertical-align: top;\n",
       "    }\n",
       "\n",
       "    .dataframe thead th {\n",
       "        text-align: right;\n",
       "    }\n",
       "</style>\n",
       "<table border=\"1\" class=\"dataframe\">\n",
       "  <thead>\n",
       "    <tr style=\"text-align: right;\">\n",
       "      <th></th>\n",
       "      <th>Store</th>\n",
       "      <th>Dept</th>\n",
       "      <th>Date</th>\n",
       "      <th>IsHoliday</th>\n",
       "      <th>Temperature</th>\n",
       "      <th>Fuel_Price</th>\n",
       "      <th>MarkDown1</th>\n",
       "      <th>MarkDown2</th>\n",
       "      <th>MarkDown3</th>\n",
       "      <th>MarkDown4</th>\n",
       "      <th>MarkDown5</th>\n",
       "      <th>CPI</th>\n",
       "      <th>Unemployment</th>\n",
       "      <th>Type</th>\n",
       "      <th>Size</th>\n",
       "    </tr>\n",
       "  </thead>\n",
       "  <tbody>\n",
       "    <tr>\n",
       "      <th>0</th>\n",
       "      <td>28</td>\n",
       "      <td>40</td>\n",
       "      <td>2012-01-06</td>\n",
       "      <td>False</td>\n",
       "      <td>50.43</td>\n",
       "      <td>3.599</td>\n",
       "      <td>5155.86</td>\n",
       "      <td>19549.51</td>\n",
       "      <td>218.29</td>\n",
       "      <td>636.73</td>\n",
       "      <td>5218.50</td>\n",
       "      <td>130.157516</td>\n",
       "      <td>12.187</td>\n",
       "      <td>A</td>\n",
       "      <td>206302</td>\n",
       "    </tr>\n",
       "    <tr>\n",
       "      <th>1</th>\n",
       "      <td>18</td>\n",
       "      <td>93</td>\n",
       "      <td>2012-03-09</td>\n",
       "      <td>False</td>\n",
       "      <td>38.10</td>\n",
       "      <td>3.876</td>\n",
       "      <td>7410.18</td>\n",
       "      <td>368.19</td>\n",
       "      <td>25.46</td>\n",
       "      <td>1852.39</td>\n",
       "      <td>2332.07</td>\n",
       "      <td>137.506690</td>\n",
       "      <td>8.075</td>\n",
       "      <td>B</td>\n",
       "      <td>120653</td>\n",
       "    </tr>\n",
       "    <tr>\n",
       "      <th>2</th>\n",
       "      <td>38</td>\n",
       "      <td>4</td>\n",
       "      <td>2011-05-27</td>\n",
       "      <td>False</td>\n",
       "      <td>76.67</td>\n",
       "      <td>4.087</td>\n",
       "      <td>NaN</td>\n",
       "      <td>NaN</td>\n",
       "      <td>NaN</td>\n",
       "      <td>NaN</td>\n",
       "      <td>NaN</td>\n",
       "      <td>129.062355</td>\n",
       "      <td>13.736</td>\n",
       "      <td>C</td>\n",
       "      <td>39690</td>\n",
       "    </tr>\n",
       "    <tr>\n",
       "      <th>3</th>\n",
       "      <td>29</td>\n",
       "      <td>33</td>\n",
       "      <td>2010-03-12</td>\n",
       "      <td>False</td>\n",
       "      <td>43.43</td>\n",
       "      <td>2.805</td>\n",
       "      <td>NaN</td>\n",
       "      <td>NaN</td>\n",
       "      <td>NaN</td>\n",
       "      <td>NaN</td>\n",
       "      <td>NaN</td>\n",
       "      <td>131.784000</td>\n",
       "      <td>10.064</td>\n",
       "      <td>B</td>\n",
       "      <td>93638</td>\n",
       "    </tr>\n",
       "    <tr>\n",
       "      <th>4</th>\n",
       "      <td>13</td>\n",
       "      <td>52</td>\n",
       "      <td>2010-10-29</td>\n",
       "      <td>False</td>\n",
       "      <td>45.12</td>\n",
       "      <td>2.841</td>\n",
       "      <td>NaN</td>\n",
       "      <td>NaN</td>\n",
       "      <td>NaN</td>\n",
       "      <td>NaN</td>\n",
       "      <td>NaN</td>\n",
       "      <td>126.436419</td>\n",
       "      <td>7.795</td>\n",
       "      <td>A</td>\n",
       "      <td>219622</td>\n",
       "    </tr>\n",
       "  </tbody>\n",
       "</table>\n",
       "</div>"
      ],
      "text/plain": [
       "   Store  Dept       Date  IsHoliday  Temperature  Fuel_Price  MarkDown1  \\\n",
       "0     28    40 2012-01-06      False        50.43       3.599    5155.86   \n",
       "1     18    93 2012-03-09      False        38.10       3.876    7410.18   \n",
       "2     38     4 2011-05-27      False        76.67       4.087        NaN   \n",
       "3     29    33 2010-03-12      False        43.43       2.805        NaN   \n",
       "4     13    52 2010-10-29      False        45.12       2.841        NaN   \n",
       "\n",
       "   MarkDown2  MarkDown3  MarkDown4  MarkDown5         CPI  Unemployment Type  \\\n",
       "0   19549.51     218.29     636.73    5218.50  130.157516        12.187    A   \n",
       "1     368.19      25.46    1852.39    2332.07  137.506690         8.075    B   \n",
       "2        NaN        NaN        NaN        NaN  129.062355        13.736    C   \n",
       "3        NaN        NaN        NaN        NaN  131.784000        10.064    B   \n",
       "4        NaN        NaN        NaN        NaN  126.436419         7.795    A   \n",
       "\n",
       "     Size  \n",
       "0  206302  \n",
       "1  120653  \n",
       "2   39690  \n",
       "3   93638  \n",
       "4  219622  "
      ]
     },
     "execution_count": 258,
     "metadata": {},
     "output_type": "execute_result"
    }
   ],
   "source": [
    "test.set_index(\"Date\")\n",
    "test.head()"
   ]
  },
  {
   "cell_type": "code",
   "execution_count": 259,
   "metadata": {
    "scrolled": true
   },
   "outputs": [
    {
     "name": "stdout",
     "output_type": "stream",
     "text": [
      "The earliest date available for which weekly forecast is available is 2010-02-05 00:00:00\n",
      "The latest date available for which weekly forecast is available is 2012-10-26 00:00:00\n",
      "Number of weeks between 2010-02-05 00:00:00 and 2012-10-26 00:00:00 is 143\n",
      "Number of stores in the training dataset are: 45\n",
      "Number of Departments across all stores in the training dataset are: 81\n"
     ]
    }
   ],
   "source": [
    "# In this section I am looking at some high level information like number of stores, number of departments, start and end dates\n",
    "\n",
    "print(\"The earliest date available for which weekly forecast is available is\",train.Date.min())\n",
    "print(\"The latest date available for which weekly forecast is available is\",train.Date.max())\n",
    "\n",
    "weeks=pd.date_range(train.Date.min(),train.Date.max(),freq='7D')\n",
    "\n",
    "print('Number of weeks between {0} and {1} is {2}'.format(train.Date.min(),train.Date.max(),len(weeks)))\n",
    "\n",
    "print(\"Number of stores in the training dataset are:\",train.Store.nunique())\n",
    "print(\"Number of Departments across all stores in the training dataset are:\",train.Dept.nunique())"
   ]
  },
  {
   "cell_type": "markdown",
   "metadata": {},
   "source": [
    "The dataset weekly forecasts for 45 stores and 81 departments overall. The next step is to identify missing data and methods to handle them."
   ]
  },
  {
   "cell_type": "markdown",
   "metadata": {},
   "source": [
    "## Missing data"
   ]
  },
  {
   "cell_type": "markdown",
   "metadata": {},
   "source": [
    "We observed that there are 81 unique departments across all stores. Let's see if these departments exist across all stores."
   ]
  },
  {
   "cell_type": "code",
   "execution_count": 260,
   "metadata": {
    "scrolled": true
   },
   "outputs": [
    {
     "name": "stdout",
     "output_type": "stream",
     "text": [
      "Top 10 stores sorted by number of departments Store\n",
      "19    79\n",
      "2     78\n",
      "11    78\n",
      "13    78\n",
      "15    78\n",
      "27    78\n",
      "1     77\n",
      "4     77\n",
      "6     77\n",
      "10    77\n",
      "Name: Dept, dtype: int64\n",
      "Bottom 10 stores sorted by number of departments Store\n",
      "36    60\n",
      "33    61\n",
      "38    61\n",
      "42    61\n",
      "43    61\n",
      "37    62\n",
      "44    62\n",
      "30    64\n",
      "3     70\n",
      "5     72\n",
      "Name: Dept, dtype: int64\n"
     ]
    }
   ],
   "source": [
    "print(\"Top 10 stores sorted by number of departments\",train.groupby('Store').Dept.nunique().nlargest(10))\n",
    "\n",
    "print(\"Bottom 10 stores sorted by number of departments\",train.groupby('Store').Dept.nunique().nsmallest(10))"
   ]
  },
  {
   "cell_type": "markdown",
   "metadata": {},
   "source": [
    "Looks like all departments don't exist across all stores. Our goal is to forecast sales at the department level, so it is not necessary for all stores to have all departments. Now let's see if data for consecutive weeks is available for all departments. There are 182 weeks between the earliest week and latest week in the dataset.If there is no missing information, all departments in all stores must have sales forecasts for 182 weeks."
   ]
  },
  {
   "cell_type": "code",
   "execution_count": 261,
   "metadata": {},
   "outputs": [
    {
     "name": "stdout",
     "output_type": "stream",
     "text": [
      "Top 5 departments sorted by number of available weeks Store  Dept\n",
      "27     24      116\n",
      "25     59      115\n",
      "11     27      114\n",
      "8      90      113\n",
      "17     2       113\n",
      "Name: Weekly_Sales, dtype: int64\n",
      "Bottom 5 departments sorted by number of available weeks Store  Dept\n",
      "2      39      1\n",
      "3      77      1\n",
      "5      78      1\n",
      "6      77      1\n",
      "7      78      1\n",
      "Name: Weekly_Sales, dtype: int64\n"
     ]
    }
   ],
   "source": [
    "print(\"Top 5 departments sorted by number of available weeks\",train.groupby(['Store','Dept']).Weekly_Sales.count().nlargest(5))\n",
    "print(\"Bottom 5 departments sorted by number of available weeks\",train.groupby(['Store','Dept']).Weekly_Sales.count().nsmallest(5))"
   ]
  },
  {
   "cell_type": "markdown",
   "metadata": {},
   "source": [
    "Clearly, several weeks are missing from the data. It looks like some departments have only one week's sales available. Let's look at one sample department in a store. I am using Store 1 and department 1 as an example."
   ]
  },
  {
   "cell_type": "code",
   "execution_count": 262,
   "metadata": {
    "scrolled": false
   },
   "outputs": [
    {
     "name": "stdout",
     "output_type": "stream",
     "text": [
      "        Store  Dept       Date  Weekly_Sales\n",
      "124083      1     1 2010-02-12      46039.49\n",
      "171280      1     1 2010-02-26      19403.54\n",
      "52982       1     1 2010-03-05      21827.90\n",
      "266036      1     1 2010-03-12      21043.39\n",
      "135904      1     1 2010-04-02      57258.43\n",
      "128503      1     1 2010-04-09      42960.91\n",
      "61940       1     1 2010-04-16      17596.96\n",
      "27090       1     1 2010-04-30      16555.11\n",
      "228625      1     1 2010-05-07      17413.94\n",
      "193220      1     1 2010-05-14      18926.74\n",
      "267520      1     1 2010-05-21      14773.04\n",
      "259739      1     1 2010-06-11      16637.62\n",
      "220817      1     1 2010-06-18      16216.27\n",
      "51157       1     1 2010-06-25      16328.72\n",
      "131264      1     1 2010-07-02      16333.14\n",
      "4231        1     1 2010-07-09      17688.76\n",
      "157599      1     1 2010-07-16      17150.84\n",
      "198066      1     1 2010-07-30      15381.82\n",
      "209978      1     1 2010-08-13      15536.40\n",
      "75068       1     1 2010-08-27      15793.87\n"
     ]
    }
   ],
   "source": [
    "print(train[(train.Store==1) & (train.Dept==1)].sort_values(by=['Date'])[['Store','Dept','Date','Weekly_Sales']].head(20))"
   ]
  },
  {
   "cell_type": "markdown",
   "metadata": {},
   "source": [
    "In this example, we can clearly see that there are missing weeks in the data. For example between 3/12/2010 and 4/2/2010 there are two weeks missing. Between 4/2/2010 and 4/9/2010, there is no missing weeks"
   ]
  },
  {
   "cell_type": "markdown",
   "metadata": {},
   "source": [
    "### Approach"
   ]
  },
  {
   "cell_type": "markdown",
   "metadata": {},
   "source": [
    "To begin with, I will be developing forecast model for a single department and later scale to other departments. I am going use Store 1's Department 1 as my sample department. \n",
    "\n",
    "At a high level, here are the steps I am going to follow for the sample model\n",
    "\n",
    "1. Fill any missing data\n",
    "2. Test for random walk by running Augmented Dickey fuller test\n",
    "3. Take first difference to transform into a stationary series\n",
    "4. Compute ACF and PACF\n",
    "5. Using ACF and PACF as a guide, fit a few AR, MA, and ARMA models\n",
    "6. Use AIC/BIC to choose best model\n",
    "7. Using the best model forecast the future"
   ]
  },
  {
   "cell_type": "markdown",
   "metadata": {},
   "source": [
    "### Time Series forecast for a single department"
   ]
  },
  {
   "cell_type": "markdown",
   "metadata": {},
   "source": [
    "### 1. Fill missing data/ Break the series into Train and Test series"
   ]
  },
  {
   "cell_type": "code",
   "execution_count": 263,
   "metadata": {},
   "outputs": [
    {
     "name": "stdout",
     "output_type": "stream",
     "text": [
      "            Weekly_Sales\n",
      "Date                    \n",
      "2010-02-12      46039.49\n",
      "2010-02-19      46039.49\n",
      "2010-02-26      19403.54\n",
      "2010-03-05      21827.90\n",
      "2010-03-12      21043.39\n",
      "2012-09-28 00:00:00\n",
      "2010-02-12 00:00:00\n"
     ]
    },
    {
     "data": {
      "text/plain": [
       "(array([733804., 733924., 734046., 734169., 734289., 734411., 734534.,\n",
       "        734655., 734777.]), <a list of 9 Text xticklabel objects>)"
      ]
     },
     "execution_count": 263,
     "metadata": {},
     "output_type": "execute_result"
    },
    {
     "data": {
      "image/png": "[encoded data removed]",
      "text/plain": [
       "<matplotlib.figure.Figure at 0x1fafe463e80>"
      ]
     },
     "metadata": {},
     "output_type": "display_data"
    }
   ],
   "source": [
    "store1_dept1=train[(train.Store==1)&(train.Dept==1)]\n",
    "store1_dept1.sort_values(by=['Date'])\n",
    "#store1_dept1_up=store1_dept1.apply(lambda x: x.set_index('Date').resample('W-FRI',fill_method='ffill'))\n",
    "\n",
    "store1_dept1.set_index('Date',inplace=True)\n",
    "store1_dept1=store1_dept1.resample('W-FRI',fill_method='ffill')\n",
    "store1_dept1_up_week_sales=store1_dept1.loc[:,['Weekly_Sales']]\n",
    "print(store1_dept1_up_week_sales.head())\n",
    "print(store1_dept1_up_week_sales.index.max())\n",
    "print(store1_dept1_up_week_sales.index.min())\n",
    "\n",
    "store1_dept1_up_week_sales_train=store1_dept1_up_week_sales[(store1_dept1_up_week_sales.index<=pd.datetime(2011,12,31))]\n",
    "store1_dept1_up_week_sales_test=store1_dept1_up_week_sales[(store1_dept1_up_week_sales.index>pd.datetime(2011,12,31))]\n",
    "\n",
    "#X_train, X_test, y_train, y_test = train_test_split(X, y, test_size=0.33, random_state=42)\n",
    "\n",
    "plt.figure(1)\n",
    "#plt.figure(figsize=(20,15))\n",
    "plt.plot(store1_dept1_up_week_sales['Weekly_Sales'])\n",
    "plt.xticks(rotation=45)"
   ]
  },
  {
   "cell_type": "markdown",
   "metadata": {},
   "source": [
    "### 2. Test  for Random walk"
   ]
  },
  {
   "cell_type": "code",
   "execution_count": 264,
   "metadata": {},
   "outputs": [
    {
     "name": "stdout",
     "output_type": "stream",
     "text": [
      "(-6.417926144862456, 1.8216506739758082e-08, 1, 97, {'1%': -3.4996365338407074, '5%': -2.8918307730370025, '10%': -2.5829283377617176}, 1757.3320462208867)\n",
      "The p-value of the augmented dickey fuller test on Weekly sales is: 1.8216506739758082e-08\n"
     ]
    }
   ],
   "source": [
    "from statsmodels.tsa.stattools import adfuller\n",
    "\n",
    "results=adfuller(store1_dept1_up_week_sales_train['Weekly_Sales'])\n",
    "\n",
    "print(results)\n",
    "print('The p-value of the augmented dickey fuller test on Weekly sales is: ' + str(results[1]))"
   ]
  },
  {
   "cell_type": "markdown",
   "metadata": {},
   "source": [
    "The t-statistic is lower than the critical values, we can reject the null hypothesis that the series is a random walk."
   ]
  },
  {
   "cell_type": "markdown",
   "metadata": {},
   "source": [
    "### 3. Transform into a stationary series"
   ]
  },
  {
   "cell_type": "markdown",
   "metadata": {},
   "source": [
    "If we were able to reject the hypothesis that the time series is a random walk, we could do the same test after taking a difference. Random walks and seasonality are good examples of non stationary series. It is impossible to forecast random walk, so we have to transform the series into a stationary series. Random walks can be easily transformed into a stationary series by taking the first difference. Seasonality can be removed by taking seasonal differences. However because of the noise we cannot tell if there is any trend or seasonality in the data. In the section below we will be using some techniques like Aggregation, Smoothing, Polynomial fitting to eliminate the noise so we can see some trend in the data."
   ]
  },
  {
   "cell_type": "markdown",
   "metadata": {},
   "source": [
    "#### First difference with single lag"
   ]
  },
  {
   "cell_type": "code",
   "execution_count": 265,
   "metadata": {
    "scrolled": true
   },
   "outputs": [
    {
     "data": {
      "text/plain": [
       "(array([733832., 733924., 734016., 734107., 734197., 734289., 734381.,\n",
       "        734472.]), <a list of 8 Text xticklabel objects>)"
      ]
     },
     "execution_count": 265,
     "metadata": {},
     "output_type": "execute_result"
    },
    {
     "data": {
      "image/png": "[encoded data removed]",
      "text/plain": [
       "<matplotlib.figure.Figure at 0x1fa81eb8b00>"
      ]
     },
     "metadata": {},
     "output_type": "display_data"
    }
   ],
   "source": [
    "plt.figure(1)\n",
    "#plt.figure(figsize=(20,15))\n",
    "store1_dept1_up_week_sales_diff=store1_dept1_up_week_sales_train['Weekly_Sales'].diff()\n",
    "plt.plot(store1_dept1_up_week_sales_diff.dropna())\n",
    "plt.xticks(rotation=45)"
   ]
  },
  {
   "cell_type": "markdown",
   "metadata": {},
   "source": [
    "We can do the dickey fuller test to check if this series is a random walk."
   ]
  },
  {
   "cell_type": "code",
   "execution_count": 266,
   "metadata": {
    "scrolled": true
   },
   "outputs": [
    {
     "name": "stdout",
     "output_type": "stream",
     "text": [
      "(-8.462574789004645, 1.5529789238938692e-13, 4, 93, {'1%': -3.502704609582561, '5%': -2.8931578098779522, '10%': -2.583636712914788}, 1747.4961236492177)\n"
     ]
    }
   ],
   "source": [
    "results_diff=adfuller(store1_dept1_up_week_sales_diff.dropna())\n",
    "\n",
    "print(results_diff)"
   ]
  },
  {
   "cell_type": "markdown",
   "metadata": {},
   "source": [
    "The null hypothesis is that the series is non stationary. Since the t statistic is less than the critical values, we can reject the null hypothesis and conclude that the series is stationary. Now we can also try the method of decomposing the series into three components Trend, Seasonality and residuals. We can test for stationarity on the residuals."
   ]
  },
  {
   "cell_type": "markdown",
   "metadata": {},
   "source": [
    "#### Decomposing"
   ]
  },
  {
   "cell_type": "code",
   "execution_count": 267,
   "metadata": {
    "scrolled": true
   },
   "outputs": [
    {
     "data": {
      "image/png": "[encoded data removed]",
      "text/plain": [
       "<matplotlib.figure.Figure at 0x1fa802d1898>"
      ]
     },
     "metadata": {},
     "output_type": "display_data"
    }
   ],
   "source": [
    "from statsmodels.tsa.seasonal import seasonal_decompose\n",
    "decomposition = seasonal_decompose(store1_dept1_up_week_sales)\n",
    "\n",
    "trend = decomposition.trend\n",
    "seasonal = decomposition.seasonal\n",
    "residual = decomposition.resid\n",
    "\n",
    "fig = plt.figure();\n",
    "#Add three subplots\n",
    "ax1 = fig.add_subplot(411);\n",
    "ax1=plt.plot(store1_dept1_up_week_sales, label='Original')\n",
    "plt.legend(loc='best')\n",
    "\n",
    "ax2 = fig.add_subplot(412);\n",
    "plt.plot(trend, label='Trend')\n",
    "plt.legend(loc='best')\n",
    "\n",
    "ax3=fig.add_subplot(413)\n",
    "plt.plot(seasonal,label='Seasonality')\n",
    "plt.legend(loc='best')\n",
    "\n",
    "ax4=fig.add_subplot(414)\n",
    "plt.plot(residual, label='Residuals')\n",
    "plt.legend(loc='best')\n",
    "plt.tight_layout()"
   ]
  },
  {
   "cell_type": "markdown",
   "metadata": {},
   "source": [
    "Let us check stationarity of residuals"
   ]
  },
  {
   "cell_type": "code",
   "execution_count": 268,
   "metadata": {
    "scrolled": true
   },
   "outputs": [
    {
     "name": "stdout",
     "output_type": "stream",
     "text": [
      "(-5.521862428601044, 1.8698371985737705e-06, 0, 85, {'1%': -3.5097356063504983, '5%': -2.8961947486260944, '10%': -2.5852576124567475}, 1325.0914130800122)\n"
     ]
    }
   ],
   "source": [
    "residual.head(50)\n",
    "results_res=adfuller(residual.dropna()['Weekly_Sales'])\n",
    "\n",
    "print(results_res)"
   ]
  },
  {
   "cell_type": "markdown",
   "metadata": {},
   "source": [
    "We can reject the hypothesis that the residuals after decomposing the time series is non-stationary."
   ]
  },
  {
   "cell_type": "markdown",
   "metadata": {},
   "source": [
    "## 3. Compute ACF and PACF\n",
    "\n",
    "Let's check the autocorrelation of the weekly timeseries. Autocorrelation is the correlation of a timeseries with a lagged copy or copies of itself."
   ]
  },
  {
   "cell_type": "code",
   "execution_count": 269,
   "metadata": {
    "scrolled": false
   },
   "outputs": [
    {
     "data": {
      "image/png": "[encoded data removed]",
      "text/plain": [
       "<matplotlib.figure.Figure at 0x1fa802d7710>"
      ]
     },
     "execution_count": 269,
     "metadata": {},
     "output_type": "execute_result"
    },
    {
     "data": {
      "image/png": "[encoded data removed]",
      "text/plain": [
       "<matplotlib.figure.Figure at 0x1fa802d70b8>"
      ]
     },
     "metadata": {},
     "output_type": "display_data"
    },
    {
     "data": {
      "image/png": "[encoded data removed]",
      "text/plain": [
       "<matplotlib.figure.Figure at 0x1fa802d7710>"
      ]
     },
     "metadata": {},
     "output_type": "display_data"
    }
   ],
   "source": [
    "from statsmodels.graphics.tsaplots import plot_acf,plot_pacf\n",
    "\n",
    "plot_acf(store1_dept1_up_week_sales_train['Weekly_Sales'],lags=20,alpha=0.05)\n",
    "plot_pacf(store1_dept1_up_week_sales_train['Weekly_Sales'],lags=20,alpha=0.05)"
   ]
  },
  {
   "cell_type": "markdown",
   "metadata": {},
   "source": [
    "#### ACF is gradually declining to zero and there is a sharp cut off of PACF after lag 2 indicating an AR(2) model. We can also check for the BIC to determine the order. For the MA term we can look at the ACF which shows that the MA term is also 2."
   ]
  },
  {
   "cell_type": "code",
   "execution_count": 270,
   "metadata": {
    "scrolled": true
   },
   "outputs": [
    {
     "data": {
      "image/png": "[encoded data removed]",
      "text/plain": [
       "<matplotlib.figure.Figure at 0x1fa80368f98>"
      ]
     },
     "metadata": {},
     "output_type": "display_data"
    }
   ],
   "source": [
    "# Import the module for estimating an ARMA model\n",
    "from statsmodels.tsa.arima_model import ARMA\n",
    "\n",
    "# Fit the data to an AR(p) for p = 0,...,6 , and save the BIC\n",
    "BIC = np.zeros(10)\n",
    "for p in range(10):\n",
    "    mod = ARMA(store1_dept1_up_week_sales_train['Weekly_Sales'], order=(p,0))\n",
    "    res = mod.fit()\n",
    "# Save BIC for AR(p)    \n",
    "    BIC[p] = res.bic\n",
    "    \n",
    "# Plot the BIC as a function of p\n",
    "plt.plot(range(1,10), BIC[1:10], marker='o')\n",
    "plt.xlabel('Order of AR Model')\n",
    "plt.ylabel('Baysian Information Criterion')\n",
    "plt.show()"
   ]
  },
  {
   "cell_type": "markdown",
   "metadata": {},
   "source": [
    "#### It looks like AR-2 model gives the lowest BIC."
   ]
  },
  {
   "cell_type": "markdown",
   "metadata": {},
   "source": [
    "### ARIMA model"
   ]
  },
  {
   "cell_type": "code",
   "execution_count": 271,
   "metadata": {},
   "outputs": [
    {
     "data": {
      "text/plain": [
       "[<matplotlib.lines.Line2D at 0x1fa805714a8>]"
      ]
     },
     "execution_count": 271,
     "metadata": {},
     "output_type": "execute_result"
    },
    {
     "data": {
      "image/png": "[encoded data removed]",
      "text/plain": [
       "<matplotlib.figure.Figure at 0x1fafe7d97b8>"
      ]
     },
     "metadata": {},
     "output_type": "display_data"
    }
   ],
   "source": [
    "model = ARIMA(store1_dept1_up_week_sales_train, order=(2, 0, 2))  \n",
    "results_ARIMA = model.fit(disp=-1)  \n",
    "plt.plot(store1_dept1_up_week_sales_train)\n",
    "plt.plot(results_ARIMA.fittedvalues, color='red')\n",
    "\n",
    "#plt.title('RSS: %.4f'% sum((results_ARIMA.fittedvalues-ts_log_diff)**2))"
   ]
  },
  {
   "cell_type": "code",
   "execution_count": 272,
   "metadata": {},
   "outputs": [
    {
     "data": {
      "text/plain": [
       "[<matplotlib.lines.Line2D at 0x1fa805d2160>]"
      ]
     },
     "execution_count": 272,
     "metadata": {},
     "output_type": "execute_result"
    },
    {
     "data": {
      "image/png": "[encoded data removed]",
      "text/plain": [
       "<matplotlib.figure.Figure at 0x1fa80559550>"
      ]
     },
     "metadata": {},
     "output_type": "display_data"
    }
   ],
   "source": [
    "test_results_ARIMA=results_ARIMA.predict(pd.datetime(2012,1,6),pd.datetime(2012,9,28))\n",
    "plt.plot(store1_dept1_up_week_sales_test)\n",
    "plt.plot(test_results_ARIMA, color='red')"
   ]
  },
  {
   "cell_type": "markdown",
   "metadata": {},
   "source": [
    "## Forecasting Accuracy evaluation"
   ]
  },
  {
   "cell_type": "markdown",
   "metadata": {},
   "source": [
    "## Define functions to calculate accuracy"
   ]
  },
  {
   "cell_type": "markdown",
   "metadata": {},
   "source": [
    "# RMSE"
   ]
  },
  {
   "cell_type": "code",
   "execution_count": 319,
   "metadata": {},
   "outputs": [],
   "source": [
    "def calc_rmse(expected,predictions):\n",
    "\n",
    "    mse = mean_squared_error(expected, predictions)\n",
    "    rmse = sqrt(mse)\n",
    "    return(rmse)"
   ]
  },
  {
   "cell_type": "markdown",
   "metadata": {},
   "source": [
    "# Forecast Bias"
   ]
  },
  {
   "cell_type": "code",
   "execution_count": 320,
   "metadata": {},
   "outputs": [],
   "source": [
    "def calc_forecast_bias(expected,predictions):\n",
    "    forecast_errors = [expected[i]-predictions[i] for i in range(len(expected))]\n",
    "    bias = sum(forecast_errors) * 1.0/len(expected)\n",
    "    return(bias)"
   ]
  },
  {
   "cell_type": "markdown",
   "metadata": {},
   "source": [
    "# Mean absolute error"
   ]
  },
  {
   "cell_type": "code",
   "execution_count": 321,
   "metadata": {},
   "outputs": [],
   "source": [
    "def calc_mean_abs_error(expected,predictions):\n",
    "    #expected = [0.0, 0.5, 0.0, 0.5, 0.0]\n",
    "    #predictions = [0.2, 0.4, 0.1, 0.6, 0.2]\n",
    "    mae = mean_absolute_error(expected, predictions)\n",
    "    return(mae)"
   ]
  },
  {
   "cell_type": "markdown",
   "metadata": {},
   "source": [
    "# Mean Squared Error"
   ]
  },
  {
   "cell_type": "code",
   "execution_count": 322,
   "metadata": {},
   "outputs": [],
   "source": [
    "def calc_mean_sqr_error(expected,predictions):\n",
    "    mse = mean_squared_error(expected, predictions)\n",
    "    return(mse)"
   ]
  },
  {
   "cell_type": "code",
   "execution_count": 305,
   "metadata": {},
   "outputs": [],
   "source": [
    "df_arima=pd.concat([store1_dept1_up_week_sales_test,test_results_ARIMA], axis=1)"
   ]
  },
  {
   "cell_type": "code",
   "execution_count": 306,
   "metadata": {
    "scrolled": true
   },
   "outputs": [],
   "source": [
    "df_arima.columns=['Actual','Predicted']"
   ]
  },
  {
   "cell_type": "code",
   "execution_count": 307,
   "metadata": {},
   "outputs": [
    {
     "data": {
      "text/html": [
       "<div>\n",
       "<style scoped>\n",
       "    .dataframe tbody tr th:only-of-type {\n",
       "        vertical-align: middle;\n",
       "    }\n",
       "\n",
       "    .dataframe tbody tr th {\n",
       "        vertical-align: top;\n",
       "    }\n",
       "\n",
       "    .dataframe thead th {\n",
       "        text-align: right;\n",
       "    }\n",
       "</style>\n",
       "<table border=\"1\" class=\"dataframe\">\n",
       "  <thead>\n",
       "    <tr style=\"text-align: right;\">\n",
       "      <th></th>\n",
       "      <th>Actual</th>\n",
       "      <th>Predicted</th>\n",
       "    </tr>\n",
       "    <tr>\n",
       "      <th>Date</th>\n",
       "      <th></th>\n",
       "      <th></th>\n",
       "    </tr>\n",
       "  </thead>\n",
       "  <tbody>\n",
       "    <tr>\n",
       "      <th>2012-01-06</th>\n",
       "      <td>16567.69</td>\n",
       "      <td>17737.771689</td>\n",
       "    </tr>\n",
       "    <tr>\n",
       "      <th>2012-01-13</th>\n",
       "      <td>16894.40</td>\n",
       "      <td>20502.871285</td>\n",
       "    </tr>\n",
       "    <tr>\n",
       "      <th>2012-01-20</th>\n",
       "      <td>16894.40</td>\n",
       "      <td>21493.310134</td>\n",
       "    </tr>\n",
       "    <tr>\n",
       "      <th>2012-01-27</th>\n",
       "      <td>16894.40</td>\n",
       "      <td>21579.180295</td>\n",
       "    </tr>\n",
       "    <tr>\n",
       "      <th>2012-02-03</th>\n",
       "      <td>23510.49</td>\n",
       "      <td>21799.212532</td>\n",
       "    </tr>\n",
       "  </tbody>\n",
       "</table>\n",
       "</div>"
      ],
      "text/plain": [
       "              Actual     Predicted\n",
       "Date                              \n",
       "2012-01-06  16567.69  17737.771689\n",
       "2012-01-13  16894.40  20502.871285\n",
       "2012-01-20  16894.40  21493.310134\n",
       "2012-01-27  16894.40  21579.180295\n",
       "2012-02-03  23510.49  21799.212532"
      ]
     },
     "execution_count": 307,
     "metadata": {},
     "output_type": "execute_result"
    }
   ],
   "source": [
    "df_arima.head()"
   ]
  },
  {
   "cell_type": "code",
   "execution_count": 308,
   "metadata": {},
   "outputs": [],
   "source": [
    "df_arima['Residuals']=df_arima['Actual']-df_arima['Predicted']"
   ]
  },
  {
   "cell_type": "markdown",
   "metadata": {},
   "source": [
    "## Residual plot"
   ]
  },
  {
   "cell_type": "code",
   "execution_count": 281,
   "metadata": {},
   "outputs": [
    {
     "data": {
      "text/plain": [
       "<matplotlib.axes._subplots.AxesSubplot at 0x1fa805d2f28>"
      ]
     },
     "execution_count": 281,
     "metadata": {},
     "output_type": "execute_result"
    },
    {
     "data": {
      "image/png": "[encoded data removed]",
      "text/plain": [
       "<matplotlib.figure.Figure at 0x1fa805ff780>"
      ]
     },
     "metadata": {},
     "output_type": "display_data"
    }
   ],
   "source": [
    "import seaborn as sns\n",
    "sns.residplot('Actual','Predicted',data=df,lowess=True, color=\"g\")"
   ]
  },
  {
   "cell_type": "markdown",
   "metadata": {},
   "source": [
    "## Probability plot"
   ]
  },
  {
   "cell_type": "code",
   "execution_count": 282,
   "metadata": {},
   "outputs": [
    {
     "data": {
      "image/png": "[encoded data removed]",
      "text/plain": [
       "<matplotlib.figure.Figure at 0x1fa806540f0>"
      ]
     },
     "metadata": {},
     "output_type": "display_data"
    }
   ],
   "source": [
    "import pylab \n",
    "import scipy.stats as stats\n",
    "\n",
    "stats.probplot(df[\"Predicted\"], dist=\"norm\", plot=pylab)\n",
    "pylab.show()"
   ]
  },
  {
   "cell_type": "markdown",
   "metadata": {},
   "source": [
    "## Plot of residuals"
   ]
  },
  {
   "cell_type": "code",
   "execution_count": 283,
   "metadata": {
    "scrolled": true
   },
   "outputs": [
    {
     "data": {
      "text/plain": [
       "<matplotlib.axes._subplots.AxesSubplot at 0x1fa805f34a8>"
      ]
     },
     "execution_count": 283,
     "metadata": {},
     "output_type": "execute_result"
    },
    {
     "data": {
      "image/png": "[encoded data removed]",
      "text/plain": [
       "<matplotlib.figure.Figure at 0x1fa80676ef0>"
      ]
     },
     "metadata": {},
     "output_type": "display_data"
    }
   ],
   "source": [
    "sns.distplot(df['Residuals'], kde=False)"
   ]
  },
  {
   "cell_type": "code",
   "execution_count": 284,
   "metadata": {
    "scrolled": false
   },
   "outputs": [
    {
     "name": "stdout",
     "output_type": "stream",
     "text": [
      "RMSE: 11251.630271\n"
     ]
    }
   ],
   "source": [
    "calc_rmse(df['Actual'],df['Predicted'])"
   ]
  },
  {
   "cell_type": "markdown",
   "metadata": {},
   "source": [
    "### FB Prophet"
   ]
  },
  {
   "cell_type": "code",
   "execution_count": 285,
   "metadata": {},
   "outputs": [],
   "source": [
    "store1_dept1_up_week_sales_train_prophet=store1_dept1_up_week_sales_train.reset_index()"
   ]
  },
  {
   "cell_type": "code",
   "execution_count": 286,
   "metadata": {},
   "outputs": [],
   "source": [
    "store1_dept1_up_week_sales_train_prophet=store1_dept1_up_week_sales_train_prophet.rename(columns={ \"Weekly_Sales\": \"y\"})"
   ]
  },
  {
   "cell_type": "code",
   "execution_count": 287,
   "metadata": {},
   "outputs": [],
   "source": [
    "store1_dept1_up_week_sales_train_prophet=store1_dept1_up_week_sales_train_prophet.rename(columns={ \"Date\": \"ds\"})"
   ]
  },
  {
   "cell_type": "code",
   "execution_count": 288,
   "metadata": {
    "scrolled": true
   },
   "outputs": [
    {
     "data": {
      "text/html": [
       "<div>\n",
       "<style scoped>\n",
       "    .dataframe tbody tr th:only-of-type {\n",
       "        vertical-align: middle;\n",
       "    }\n",
       "\n",
       "    .dataframe tbody tr th {\n",
       "        vertical-align: top;\n",
       "    }\n",
       "\n",
       "    .dataframe thead th {\n",
       "        text-align: right;\n",
       "    }\n",
       "</style>\n",
       "<table border=\"1\" class=\"dataframe\">\n",
       "  <thead>\n",
       "    <tr style=\"text-align: right;\">\n",
       "      <th></th>\n",
       "      <th>ds</th>\n",
       "      <th>y</th>\n",
       "    </tr>\n",
       "  </thead>\n",
       "  <tbody>\n",
       "    <tr>\n",
       "      <th>94</th>\n",
       "      <td>2011-12-02</td>\n",
       "      <td>25293.49</td>\n",
       "    </tr>\n",
       "    <tr>\n",
       "      <th>95</th>\n",
       "      <td>2011-12-09</td>\n",
       "      <td>25293.49</td>\n",
       "    </tr>\n",
       "    <tr>\n",
       "      <th>96</th>\n",
       "      <td>2011-12-16</td>\n",
       "      <td>45773.03</td>\n",
       "    </tr>\n",
       "    <tr>\n",
       "      <th>97</th>\n",
       "      <td>2011-12-23</td>\n",
       "      <td>46788.75</td>\n",
       "    </tr>\n",
       "    <tr>\n",
       "      <th>98</th>\n",
       "      <td>2011-12-30</td>\n",
       "      <td>23350.88</td>\n",
       "    </tr>\n",
       "  </tbody>\n",
       "</table>\n",
       "</div>"
      ],
      "text/plain": [
       "           ds         y\n",
       "94 2011-12-02  25293.49\n",
       "95 2011-12-09  25293.49\n",
       "96 2011-12-16  45773.03\n",
       "97 2011-12-23  46788.75\n",
       "98 2011-12-30  23350.88"
      ]
     },
     "execution_count": 288,
     "metadata": {},
     "output_type": "execute_result"
    }
   ],
   "source": [
    "store1_dept1_up_week_sales_train_prophet.tail()"
   ]
  },
  {
   "cell_type": "code",
   "execution_count": 291,
   "metadata": {
    "scrolled": false
   },
   "outputs": [
    {
     "name": "stderr",
     "output_type": "stream",
     "text": [
      "INFO:fbprophet.forecaster:Disabling yearly seasonality. Run prophet with yearly_seasonality=True to override this.\n",
      "INFO:fbprophet.forecaster:Disabling weekly seasonality. Run prophet with weekly_seasonality=True to override this.\n",
      "INFO:fbprophet.forecaster:Disabling daily seasonality. Run prophet with daily_seasonality=True to override this.\n"
     ]
    }
   ],
   "source": [
    "m = Prophet().fit(store1_dept1_up_week_sales_train_prophet)\n",
    "future = m.make_future_dataframe(periods=39,freq='W-FRI')\n",
    "fcst = m.predict(future)\n",
    "#m.plot_components(fcst);"
   ]
  },
  {
   "cell_type": "code",
   "execution_count": 292,
   "metadata": {
    "scrolled": true
   },
   "outputs": [
    {
     "name": "stdout",
     "output_type": "stream",
     "text": [
      "<class 'pandas.core.frame.DataFrame'>\n",
      "RangeIndex: 138 entries, 0 to 137\n",
      "Data columns (total 10 columns):\n",
      "ds                138 non-null datetime64[ns]\n",
      "trend             138 non-null float64\n",
      "trend_lower       138 non-null float64\n",
      "trend_upper       138 non-null float64\n",
      "yhat_lower        138 non-null float64\n",
      "yhat_upper        138 non-null float64\n",
      "seasonal          138 non-null float64\n",
      "seasonal_lower    138 non-null float64\n",
      "seasonal_upper    138 non-null float64\n",
      "yhat              138 non-null float64\n",
      "dtypes: datetime64[ns](1), float64(9)\n",
      "memory usage: 10.9 KB\n"
     ]
    }
   ],
   "source": [
    "fcst.info()"
   ]
  },
  {
   "cell_type": "markdown",
   "metadata": {},
   "source": [
    "## Residual plot"
   ]
  },
  {
   "cell_type": "code",
   "execution_count": 372,
   "metadata": {
    "scrolled": true
   },
   "outputs": [
    {
     "data": {
      "text/html": [
       "<div>\n",
       "<style scoped>\n",
       "    .dataframe tbody tr th:only-of-type {\n",
       "        vertical-align: middle;\n",
       "    }\n",
       "\n",
       "    .dataframe tbody tr th {\n",
       "        vertical-align: top;\n",
       "    }\n",
       "\n",
       "    .dataframe thead th {\n",
       "        text-align: right;\n",
       "    }\n",
       "</style>\n",
       "<table border=\"1\" class=\"dataframe\">\n",
       "  <thead>\n",
       "    <tr style=\"text-align: right;\">\n",
       "      <th></th>\n",
       "      <th>ds</th>\n",
       "      <th>trend</th>\n",
       "      <th>trend_lower</th>\n",
       "      <th>trend_upper</th>\n",
       "      <th>yhat_lower</th>\n",
       "      <th>yhat_upper</th>\n",
       "      <th>seasonal</th>\n",
       "      <th>seasonal_lower</th>\n",
       "      <th>seasonal_upper</th>\n",
       "      <th>Predicted</th>\n",
       "    </tr>\n",
       "  </thead>\n",
       "  <tbody>\n",
       "    <tr>\n",
       "      <th>0</th>\n",
       "      <td>2010-02-12</td>\n",
       "      <td>23106.128943</td>\n",
       "      <td>23106.128943</td>\n",
       "      <td>23106.128943</td>\n",
       "      <td>9855.680810</td>\n",
       "      <td>36403.454709</td>\n",
       "      <td>0.0</td>\n",
       "      <td>0.0</td>\n",
       "      <td>0.0</td>\n",
       "      <td>23106.128943</td>\n",
       "    </tr>\n",
       "    <tr>\n",
       "      <th>1</th>\n",
       "      <td>2010-02-19</td>\n",
       "      <td>23084.483784</td>\n",
       "      <td>23084.483784</td>\n",
       "      <td>23084.483784</td>\n",
       "      <td>10752.673388</td>\n",
       "      <td>35998.363198</td>\n",
       "      <td>0.0</td>\n",
       "      <td>0.0</td>\n",
       "      <td>0.0</td>\n",
       "      <td>23084.483784</td>\n",
       "    </tr>\n",
       "    <tr>\n",
       "      <th>2</th>\n",
       "      <td>2010-02-26</td>\n",
       "      <td>23062.838625</td>\n",
       "      <td>23062.838625</td>\n",
       "      <td>23062.838625</td>\n",
       "      <td>10697.447873</td>\n",
       "      <td>35374.029417</td>\n",
       "      <td>0.0</td>\n",
       "      <td>0.0</td>\n",
       "      <td>0.0</td>\n",
       "      <td>23062.838625</td>\n",
       "    </tr>\n",
       "    <tr>\n",
       "      <th>3</th>\n",
       "      <td>2010-03-05</td>\n",
       "      <td>23041.193466</td>\n",
       "      <td>23041.193466</td>\n",
       "      <td>23041.193466</td>\n",
       "      <td>10528.618125</td>\n",
       "      <td>35994.995853</td>\n",
       "      <td>0.0</td>\n",
       "      <td>0.0</td>\n",
       "      <td>0.0</td>\n",
       "      <td>23041.193466</td>\n",
       "    </tr>\n",
       "    <tr>\n",
       "      <th>4</th>\n",
       "      <td>2010-03-12</td>\n",
       "      <td>23019.548306</td>\n",
       "      <td>23019.548306</td>\n",
       "      <td>23019.548306</td>\n",
       "      <td>9736.032093</td>\n",
       "      <td>36451.967824</td>\n",
       "      <td>0.0</td>\n",
       "      <td>0.0</td>\n",
       "      <td>0.0</td>\n",
       "      <td>23019.548306</td>\n",
       "    </tr>\n",
       "  </tbody>\n",
       "</table>\n",
       "</div>"
      ],
      "text/plain": [
       "          ds         trend   trend_lower   trend_upper    yhat_lower  \\\n",
       "0 2010-02-12  23106.128943  23106.128943  23106.128943   9855.680810   \n",
       "1 2010-02-19  23084.483784  23084.483784  23084.483784  10752.673388   \n",
       "2 2010-02-26  23062.838625  23062.838625  23062.838625  10697.447873   \n",
       "3 2010-03-05  23041.193466  23041.193466  23041.193466  10528.618125   \n",
       "4 2010-03-12  23019.548306  23019.548306  23019.548306   9736.032093   \n",
       "\n",
       "     yhat_upper  seasonal  seasonal_lower  seasonal_upper     Predicted  \n",
       "0  36403.454709       0.0             0.0             0.0  23106.128943  \n",
       "1  35998.363198       0.0             0.0             0.0  23084.483784  \n",
       "2  35374.029417       0.0             0.0             0.0  23062.838625  \n",
       "3  35994.995853       0.0             0.0             0.0  23041.193466  \n",
       "4  36451.967824       0.0             0.0             0.0  23019.548306  "
      ]
     },
     "execution_count": 372,
     "metadata": {},
     "output_type": "execute_result"
    }
   ],
   "source": [
    "fcst=fcst.rename(columns={ \"yhat\": \"Predicted\"})\n",
    "fcst.head()\n",
    "\n",
    "#sns.residplot('ds','Predicted',data=fcst,lowess=True, color=\"g\")"
   ]
  },
  {
   "cell_type": "code",
   "execution_count": 295,
   "metadata": {},
   "outputs": [
    {
     "data": {
      "text/html": [
       "<div>\n",
       "<style scoped>\n",
       "    .dataframe tbody tr th:only-of-type {\n",
       "        vertical-align: middle;\n",
       "    }\n",
       "\n",
       "    .dataframe tbody tr th {\n",
       "        vertical-align: top;\n",
       "    }\n",
       "\n",
       "    .dataframe thead th {\n",
       "        text-align: right;\n",
       "    }\n",
       "</style>\n",
       "<table border=\"1\" class=\"dataframe\">\n",
       "  <thead>\n",
       "    <tr style=\"text-align: right;\">\n",
       "      <th></th>\n",
       "      <th>Weekly_Sales</th>\n",
       "    </tr>\n",
       "    <tr>\n",
       "      <th>Date</th>\n",
       "      <th></th>\n",
       "    </tr>\n",
       "  </thead>\n",
       "  <tbody>\n",
       "    <tr>\n",
       "      <th>2010-02-12</th>\n",
       "      <td>46039.49</td>\n",
       "    </tr>\n",
       "    <tr>\n",
       "      <th>2010-02-19</th>\n",
       "      <td>46039.49</td>\n",
       "    </tr>\n",
       "    <tr>\n",
       "      <th>2010-02-26</th>\n",
       "      <td>19403.54</td>\n",
       "    </tr>\n",
       "    <tr>\n",
       "      <th>2010-03-05</th>\n",
       "      <td>21827.90</td>\n",
       "    </tr>\n",
       "    <tr>\n",
       "      <th>2010-03-12</th>\n",
       "      <td>21043.39</td>\n",
       "    </tr>\n",
       "  </tbody>\n",
       "</table>\n",
       "</div>"
      ],
      "text/plain": [
       "            Weekly_Sales\n",
       "Date                    \n",
       "2010-02-12      46039.49\n",
       "2010-02-19      46039.49\n",
       "2010-02-26      19403.54\n",
       "2010-03-05      21827.90\n",
       "2010-03-12      21043.39"
      ]
     },
     "execution_count": 295,
     "metadata": {},
     "output_type": "execute_result"
    }
   ],
   "source": [
    "store1_dept1_up_week_sales.head()"
   ]
  },
  {
   "cell_type": "code",
   "execution_count": 330,
   "metadata": {},
   "outputs": [],
   "source": [
    "fcst_pred=fcst[[\"ds\",\"Predicted\"]]\n",
    "fcst_pred=fcst_pred.set_index('ds')\n",
    "#store1_dept1_up_week_sales=store1_dept1_up_week_sales.set_index('ds')\n",
    "prophet_pred=pd.concat([store1_dept1_up_week_sales,fcst_pred], axis=1)"
   ]
  },
  {
   "cell_type": "code",
   "execution_count": 331,
   "metadata": {
    "scrolled": false
   },
   "outputs": [],
   "source": [
    "prophet_pred.head()\n",
    "prophet_pred=prophet_pred[(prophet_pred.index>pd.datetime(2011,12,31))]"
   ]
  },
  {
   "cell_type": "code",
   "execution_count": 338,
   "metadata": {
    "scrolled": true
   },
   "outputs": [],
   "source": [
    "prophet_pred[\"Residuals\"]=prophet_pred[\"Weekly_Sales\"]-prophet_pred[\"Predicted\"]\n",
    "#prophet_pred[\"Residuals\"]=prophet_pred[\"Residuals\"].apply(lambda x: 0 if np.isnan(x) else x)"
   ]
  },
  {
   "cell_type": "code",
   "execution_count": 339,
   "metadata": {},
   "outputs": [
    {
     "data": {
      "text/html": [
       "<div>\n",
       "<style scoped>\n",
       "    .dataframe tbody tr th:only-of-type {\n",
       "        vertical-align: middle;\n",
       "    }\n",
       "\n",
       "    .dataframe tbody tr th {\n",
       "        vertical-align: top;\n",
       "    }\n",
       "\n",
       "    .dataframe thead th {\n",
       "        text-align: right;\n",
       "    }\n",
       "</style>\n",
       "<table border=\"1\" class=\"dataframe\">\n",
       "  <thead>\n",
       "    <tr style=\"text-align: right;\">\n",
       "      <th></th>\n",
       "      <th>Weekly_Sales</th>\n",
       "      <th>Predicted</th>\n",
       "      <th>Residuals</th>\n",
       "    </tr>\n",
       "  </thead>\n",
       "  <tbody>\n",
       "    <tr>\n",
       "      <th>2012-01-06</th>\n",
       "      <td>16567.69</td>\n",
       "      <td>21065.821530</td>\n",
       "      <td>-4498.131530</td>\n",
       "    </tr>\n",
       "    <tr>\n",
       "      <th>2012-01-13</th>\n",
       "      <td>16894.40</td>\n",
       "      <td>21045.463123</td>\n",
       "      <td>-4151.063123</td>\n",
       "    </tr>\n",
       "    <tr>\n",
       "      <th>2012-01-20</th>\n",
       "      <td>16894.40</td>\n",
       "      <td>21025.104717</td>\n",
       "      <td>-4130.704717</td>\n",
       "    </tr>\n",
       "    <tr>\n",
       "      <th>2012-01-27</th>\n",
       "      <td>16894.40</td>\n",
       "      <td>21004.746310</td>\n",
       "      <td>-4110.346310</td>\n",
       "    </tr>\n",
       "    <tr>\n",
       "      <th>2012-02-03</th>\n",
       "      <td>23510.49</td>\n",
       "      <td>20984.387904</td>\n",
       "      <td>2526.102096</td>\n",
       "    </tr>\n",
       "  </tbody>\n",
       "</table>\n",
       "</div>"
      ],
      "text/plain": [
       "            Weekly_Sales     Predicted    Residuals\n",
       "2012-01-06      16567.69  21065.821530 -4498.131530\n",
       "2012-01-13      16894.40  21045.463123 -4151.063123\n",
       "2012-01-20      16894.40  21025.104717 -4130.704717\n",
       "2012-01-27      16894.40  21004.746310 -4110.346310\n",
       "2012-02-03      23510.49  20984.387904  2526.102096"
      ]
     },
     "execution_count": 339,
     "metadata": {},
     "output_type": "execute_result"
    }
   ],
   "source": [
    "prophet_pred.head()"
   ]
  },
  {
   "cell_type": "code",
   "execution_count": 340,
   "metadata": {
    "scrolled": true
   },
   "outputs": [
    {
     "data": {
      "text/plain": [
       "<matplotlib.axes._subplots.AxesSubplot at 0x1faf1e74cf8>"
      ]
     },
     "execution_count": 340,
     "metadata": {},
     "output_type": "execute_result"
    },
    {
     "data": {
      "image/png": "[encoded data removed]",
      "text/plain": [
       "<matplotlib.figure.Figure at 0x1fafe8d1940>"
      ]
     },
     "metadata": {},
     "output_type": "display_data"
    }
   ],
   "source": [
    "sns.residplot('Weekly_Sales','Predicted',data=prophet_pred,lowess=True, color=\"g\")"
   ]
  },
  {
   "cell_type": "markdown",
   "metadata": {},
   "source": [
    "## Probability plot"
   ]
  },
  {
   "cell_type": "code",
   "execution_count": 341,
   "metadata": {},
   "outputs": [
    {
     "data": {
      "image/png": "[encoded data removed]",
      "text/plain": [
       "<matplotlib.figure.Figure at 0x1fafe7ac208>"
      ]
     },
     "metadata": {},
     "output_type": "display_data"
    }
   ],
   "source": [
    "stats.probplot(prophet_pred[\"Predicted\"], dist=\"norm\", plot=pylab)\n",
    "pylab.show()"
   ]
  },
  {
   "cell_type": "markdown",
   "metadata": {},
   "source": [
    "## Plot of residuals"
   ]
  },
  {
   "cell_type": "code",
   "execution_count": 342,
   "metadata": {
    "scrolled": false
   },
   "outputs": [
    {
     "data": {
      "text/plain": [
       "<matplotlib.axes._subplots.AxesSubplot at 0x1fa80844390>"
      ]
     },
     "execution_count": 342,
     "metadata": {},
     "output_type": "execute_result"
    },
    {
     "data": {
      "image/png": "[encoded data removed]",
      "text/plain": [
       "<matplotlib.figure.Figure at 0x1fa8136c668>"
      ]
     },
     "metadata": {},
     "output_type": "display_data"
    }
   ],
   "source": [
    "sns.distplot(prophet_pred['Residuals'], kde=False)"
   ]
  },
  {
   "cell_type": "markdown",
   "metadata": {},
   "source": [
    "The results are similar to the ARIMA model created above."
   ]
  },
  {
   "cell_type": "code",
   "execution_count": 346,
   "metadata": {},
   "outputs": [
    {
     "data": {
      "text/html": [
       "<div>\n",
       "<style scoped>\n",
       "    .dataframe tbody tr th:only-of-type {\n",
       "        vertical-align: middle;\n",
       "    }\n",
       "\n",
       "    .dataframe tbody tr th {\n",
       "        vertical-align: top;\n",
       "    }\n",
       "\n",
       "    .dataframe thead th {\n",
       "        text-align: right;\n",
       "    }\n",
       "</style>\n",
       "<table border=\"1\" class=\"dataframe\">\n",
       "  <thead>\n",
       "    <tr style=\"text-align: right;\">\n",
       "      <th></th>\n",
       "      <th>Actual</th>\n",
       "      <th>Predicted</th>\n",
       "      <th>Residuals</th>\n",
       "    </tr>\n",
       "    <tr>\n",
       "      <th>Date</th>\n",
       "      <th></th>\n",
       "      <th></th>\n",
       "      <th></th>\n",
       "    </tr>\n",
       "  </thead>\n",
       "  <tbody>\n",
       "    <tr>\n",
       "      <th>2012-08-31</th>\n",
       "      <td>16680.24</td>\n",
       "      <td>21806.885814</td>\n",
       "      <td>-5126.645814</td>\n",
       "    </tr>\n",
       "    <tr>\n",
       "      <th>2012-09-07</th>\n",
       "      <td>18322.37</td>\n",
       "      <td>21696.017711</td>\n",
       "      <td>-3373.647711</td>\n",
       "    </tr>\n",
       "    <tr>\n",
       "      <th>2012-09-14</th>\n",
       "      <td>19616.22</td>\n",
       "      <td>21805.771261</td>\n",
       "      <td>-2189.551261</td>\n",
       "    </tr>\n",
       "    <tr>\n",
       "      <th>2012-09-21</th>\n",
       "      <td>19251.50</td>\n",
       "      <td>21697.121060</td>\n",
       "      <td>-2445.621060</td>\n",
       "    </tr>\n",
       "    <tr>\n",
       "      <th>2012-09-28</th>\n",
       "      <td>18947.81</td>\n",
       "      <td>21804.679005</td>\n",
       "      <td>-2856.869005</td>\n",
       "    </tr>\n",
       "  </tbody>\n",
       "</table>\n",
       "</div>"
      ],
      "text/plain": [
       "              Actual     Predicted    Residuals\n",
       "Date                                           \n",
       "2012-08-31  16680.24  21806.885814 -5126.645814\n",
       "2012-09-07  18322.37  21696.017711 -3373.647711\n",
       "2012-09-14  19616.22  21805.771261 -2189.551261\n",
       "2012-09-21  19251.50  21697.121060 -2445.621060\n",
       "2012-09-28  18947.81  21804.679005 -2856.869005"
      ]
     },
     "execution_count": 346,
     "metadata": {},
     "output_type": "execute_result"
    }
   ],
   "source": [
    "df_arima.tail()"
   ]
  },
  {
   "cell_type": "code",
   "execution_count": 373,
   "metadata": {
    "scrolled": false
   },
   "outputs": [
    {
     "name": "stdout",
     "output_type": "stream",
     "text": [
      "╒══════════════════╤═════════╤═════════════════╤═══════════════════════╤══════════════════════╕\n",
      "│ Method           │    RMSE │   Forecast Bias │   Mean Absolute Error │   Mean Squared Error │\n",
      "╞══════════════════╪═════════╪═════════════════╪═══════════════════════╪══════════════════════╡\n",
      "│ ARIMA            │ 11251.6 │          271.44 │               6897.16 │          1.26599e+08 │\n",
      "├──────────────────┼─────────┼─────────────────┼───────────────────────┼──────────────────────┤\n",
      "│ Facebook Prophet │ 11293.9 │         1198.33 │               6298.15 │          1.27552e+08 │\n",
      "╘══════════════════╧═════════╧═════════════════╧═══════════════════════╧══════════════════════╛\n"
     ]
    }
   ],
   "source": [
    "results=pd.DataFrame(columns=['Method','RMSE','Forecast Bias','Mean Absolute Error','Mean Squared Error'])\n",
    "results = results.append({'Method': 'ARIMA',\n",
    "                          'RMSE': calc_rmse(df_arima['Actual'],df_arima['Predicted']),\n",
    "                          'Forecast Bias': calc_forecast_bias(df_arima['Actual'],df_arima['Predicted']),\n",
    "                          'Mean Absolute Error': calc_mean_abs_error(df_arima['Actual'],df_arima['Predicted']),\n",
    "                          'Mean Squared Error': calc_mean_sqr_error(df_arima['Actual'],df_arima['Predicted'])\n",
    "                         },\n",
    "                         ignore_index=True)\n",
    "results = results.append({'Method': 'Facebook Prophet',\n",
    "                          'RMSE': calc_rmse(prophet_pred['Weekly_Sales'],prophet_pred['Predicted']),\n",
    "                          'Forecast Bias': calc_forecast_bias(prophet_pred['Weekly_Sales'],prophet_pred['Predicted']),\n",
    "                          'Mean Absolute Error': calc_mean_abs_error(prophet_pred['Weekly_Sales'],prophet_pred['Predicted']),\n",
    "                          'Mean Squared Error': calc_mean_sqr_error(prophet_pred['Weekly_Sales'],prophet_pred['Predicted'])\n",
    "                         },\n",
    "                         ignore_index=True)\n",
    "\n",
    "print(tabulate(results, headers='keys', showindex=False,tablefmt='fancy_grid'))"
   ]
  },
  {
   "cell_type": "markdown",
   "metadata": {},
   "source": [
    "# Timeseries using Tensorflow"
   ]
  },
  {
   "cell_type": "code",
   "execution_count": 353,
   "metadata": {},
   "outputs": [],
   "source": [
    "import matplotlib.pyplot as plt\n",
    "import tensorflow as tf\n",
    "import numpy as np\n",
    "import pandas as pd\n",
    "import os\n",
    "from sklearn.preprocessing import MinMaxScaler"
   ]
  },
  {
   "cell_type": "code",
   "execution_count": 354,
   "metadata": {},
   "outputs": [
    {
     "name": "stdout",
     "output_type": "stream",
     "text": [
      "   Store  Dept       Date  Weekly_Sales  IsHoliday  Temperature  Fuel_Price  \\\n",
      "0     26    92 2011-08-26      87235.57      False        61.10       3.796   \n",
      "1     34    22 2011-03-25       5945.97      False        53.11       3.480   \n",
      "2     21    28 2010-12-03       1219.89      False        50.43       2.708   \n",
      "3      8     9 2010-09-17      11972.71      False        75.32       2.582   \n",
      "4     19    55 2012-05-18       8271.82      False        58.81       4.029   \n",
      "\n",
      "   MarkDown1  MarkDown2  MarkDown3  MarkDown4  MarkDown5         CPI  \\\n",
      "0        NaN        NaN        NaN        NaN        NaN  136.213613   \n",
      "1        NaN        NaN        NaN        NaN        NaN  128.616064   \n",
      "2        NaN        NaN        NaN        NaN        NaN  211.265543   \n",
      "3        NaN        NaN        NaN        NaN        NaN  214.878556   \n",
      "4   12613.98        NaN       11.5    1705.28    3600.79  138.106581   \n",
      "\n",
      "   Unemployment Type    Size  \n",
      "0         7.767    A  152513  \n",
      "1        10.398    A  158114  \n",
      "2         8.163    B  140167  \n",
      "3         6.315    A  155078  \n",
      "4         8.150    A  203819  \n"
     ]
    }
   ],
   "source": [
    "print(train.head())"
   ]
  },
  {
   "cell_type": "code",
   "execution_count": 355,
   "metadata": {},
   "outputs": [],
   "source": [
    "store1_dept1_data=train[(train['Store']==1)&(train['Dept']==1)]"
   ]
  },
  {
   "cell_type": "code",
   "execution_count": 358,
   "metadata": {},
   "outputs": [],
   "source": [
    "store1_dept1_data=store1_dept1_data.fillna(0)"
   ]
  },
  {
   "cell_type": "code",
   "execution_count": 360,
   "metadata": {},
   "outputs": [],
   "source": [
    "store1_dept1_data.sort_values(by=['Date'])\n",
    "#store1_dept1_up=store1_dept1.apply(lambda x: x.set_index('Date').resample('W-FRI',fill_method='ffill'))\n",
    "\n",
    "store1_dept1_data.set_index('Date',inplace=True)\n",
    "store1_dept1_data=store1_dept1_data.resample('W-FRI',fill_method='ffill')"
   ]
  },
  {
   "cell_type": "code",
   "execution_count": 365,
   "metadata": {},
   "outputs": [
    {
     "data": {
      "text/html": [
       "<div>\n",
       "<style scoped>\n",
       "    .dataframe tbody tr th:only-of-type {\n",
       "        vertical-align: middle;\n",
       "    }\n",
       "\n",
       "    .dataframe tbody tr th {\n",
       "        vertical-align: top;\n",
       "    }\n",
       "\n",
       "    .dataframe thead th {\n",
       "        text-align: right;\n",
       "    }\n",
       "</style>\n",
       "<table border=\"1\" class=\"dataframe\">\n",
       "  <thead>\n",
       "    <tr style=\"text-align: right;\">\n",
       "      <th></th>\n",
       "      <th>Store</th>\n",
       "      <th>Dept</th>\n",
       "      <th>Weekly_Sales</th>\n",
       "      <th>IsHoliday</th>\n",
       "      <th>Temperature</th>\n",
       "      <th>Fuel_Price</th>\n",
       "      <th>MarkDown1</th>\n",
       "      <th>MarkDown2</th>\n",
       "      <th>MarkDown3</th>\n",
       "      <th>MarkDown4</th>\n",
       "      <th>MarkDown5</th>\n",
       "      <th>CPI</th>\n",
       "      <th>Unemployment</th>\n",
       "      <th>Type</th>\n",
       "      <th>Size</th>\n",
       "    </tr>\n",
       "    <tr>\n",
       "      <th>Date</th>\n",
       "      <th></th>\n",
       "      <th></th>\n",
       "      <th></th>\n",
       "      <th></th>\n",
       "      <th></th>\n",
       "      <th></th>\n",
       "      <th></th>\n",
       "      <th></th>\n",
       "      <th></th>\n",
       "      <th></th>\n",
       "      <th></th>\n",
       "      <th></th>\n",
       "      <th></th>\n",
       "      <th></th>\n",
       "      <th></th>\n",
       "    </tr>\n",
       "  </thead>\n",
       "  <tbody>\n",
       "    <tr>\n",
       "      <th>2010-02-12</th>\n",
       "      <td>1</td>\n",
       "      <td>1</td>\n",
       "      <td>46039.49</td>\n",
       "      <td>True</td>\n",
       "      <td>38.51</td>\n",
       "      <td>2.548</td>\n",
       "      <td>0.0</td>\n",
       "      <td>0.0</td>\n",
       "      <td>0.0</td>\n",
       "      <td>0.0</td>\n",
       "      <td>0.0</td>\n",
       "      <td>211.242170</td>\n",
       "      <td>8.106</td>\n",
       "      <td>A</td>\n",
       "      <td>151315</td>\n",
       "    </tr>\n",
       "    <tr>\n",
       "      <th>2010-02-19</th>\n",
       "      <td>1</td>\n",
       "      <td>1</td>\n",
       "      <td>46039.49</td>\n",
       "      <td>True</td>\n",
       "      <td>38.51</td>\n",
       "      <td>2.548</td>\n",
       "      <td>0.0</td>\n",
       "      <td>0.0</td>\n",
       "      <td>0.0</td>\n",
       "      <td>0.0</td>\n",
       "      <td>0.0</td>\n",
       "      <td>211.242170</td>\n",
       "      <td>8.106</td>\n",
       "      <td>A</td>\n",
       "      <td>151315</td>\n",
       "    </tr>\n",
       "    <tr>\n",
       "      <th>2010-02-26</th>\n",
       "      <td>1</td>\n",
       "      <td>1</td>\n",
       "      <td>19403.54</td>\n",
       "      <td>False</td>\n",
       "      <td>46.63</td>\n",
       "      <td>2.561</td>\n",
       "      <td>0.0</td>\n",
       "      <td>0.0</td>\n",
       "      <td>0.0</td>\n",
       "      <td>0.0</td>\n",
       "      <td>0.0</td>\n",
       "      <td>211.319643</td>\n",
       "      <td>8.106</td>\n",
       "      <td>A</td>\n",
       "      <td>151315</td>\n",
       "    </tr>\n",
       "    <tr>\n",
       "      <th>2010-03-05</th>\n",
       "      <td>1</td>\n",
       "      <td>1</td>\n",
       "      <td>21827.90</td>\n",
       "      <td>False</td>\n",
       "      <td>46.50</td>\n",
       "      <td>2.625</td>\n",
       "      <td>0.0</td>\n",
       "      <td>0.0</td>\n",
       "      <td>0.0</td>\n",
       "      <td>0.0</td>\n",
       "      <td>0.0</td>\n",
       "      <td>211.350143</td>\n",
       "      <td>8.106</td>\n",
       "      <td>A</td>\n",
       "      <td>151315</td>\n",
       "    </tr>\n",
       "    <tr>\n",
       "      <th>2010-03-12</th>\n",
       "      <td>1</td>\n",
       "      <td>1</td>\n",
       "      <td>21043.39</td>\n",
       "      <td>False</td>\n",
       "      <td>57.79</td>\n",
       "      <td>2.667</td>\n",
       "      <td>0.0</td>\n",
       "      <td>0.0</td>\n",
       "      <td>0.0</td>\n",
       "      <td>0.0</td>\n",
       "      <td>0.0</td>\n",
       "      <td>211.380643</td>\n",
       "      <td>8.106</td>\n",
       "      <td>A</td>\n",
       "      <td>151315</td>\n",
       "    </tr>\n",
       "  </tbody>\n",
       "</table>\n",
       "</div>"
      ],
      "text/plain": [
       "            Store  Dept  Weekly_Sales  IsHoliday  Temperature  Fuel_Price  \\\n",
       "Date                                                                        \n",
       "2010-02-12      1     1      46039.49       True        38.51       2.548   \n",
       "2010-02-19      1     1      46039.49       True        38.51       2.548   \n",
       "2010-02-26      1     1      19403.54      False        46.63       2.561   \n",
       "2010-03-05      1     1      21827.90      False        46.50       2.625   \n",
       "2010-03-12      1     1      21043.39      False        57.79       2.667   \n",
       "\n",
       "            MarkDown1  MarkDown2  MarkDown3  MarkDown4  MarkDown5         CPI  \\\n",
       "Date                                                                            \n",
       "2010-02-12        0.0        0.0        0.0        0.0        0.0  211.242170   \n",
       "2010-02-19        0.0        0.0        0.0        0.0        0.0  211.242170   \n",
       "2010-02-26        0.0        0.0        0.0        0.0        0.0  211.319643   \n",
       "2010-03-05        0.0        0.0        0.0        0.0        0.0  211.350143   \n",
       "2010-03-12        0.0        0.0        0.0        0.0        0.0  211.380643   \n",
       "\n",
       "            Unemployment Type    Size  \n",
       "Date                                   \n",
       "2010-02-12         8.106    A  151315  \n",
       "2010-02-19         8.106    A  151315  \n",
       "2010-02-26         8.106    A  151315  \n",
       "2010-03-05         8.106    A  151315  \n",
       "2010-03-12         8.106    A  151315  "
      ]
     },
     "execution_count": 365,
     "metadata": {},
     "output_type": "execute_result"
    }
   ],
   "source": [
    "store1_dept1_data.head()"
   ]
  },
  {
   "cell_type": "code",
   "execution_count": 368,
   "metadata": {
    "scrolled": true
   },
   "outputs": [],
   "source": [
    "store1_dept1_Sales_train=store1_dept1_data[(store1_dept1_data.index<=pd.datetime(2011,12,31))]['Weekly_Sales'].values\n",
    "store1_dept1_Sales_test=store1_dept1_data[(store1_dept1_data.index>pd.datetime(2011,12,31))]['Weekly_Sales'].values"
   ]
  },
  {
   "cell_type": "code",
   "execution_count": 370,
   "metadata": {},
   "outputs": [],
   "source": [
    "store1_dept1_feat_train=store1_dept1_data[(store1_dept1_data.index<=pd.datetime(2011,12,31))]\n",
    "store1_dept1_feat_test=store1_dept1_data[(store1_dept1_data.index>pd.datetime(2011,12,31))]\n",
    "\n",
    "store1_dept1_feat_train=store1_dept1_feat_train.drop(['Weekly_Sales'],axis=1).values\n",
    "store1_dept1_feat_test=store1_dept1_feat_test.drop(['Weekly_Sales'],axis=1).values\n"
   ]
  },
  {
   "cell_type": "markdown",
   "metadata": {},
   "source": [
    "## Forecasting at Scale"
   ]
  },
  {
   "cell_type": "markdown",
   "metadata": {},
   "source": [
    "With a few lines of code we can repeat the same process for all Stores and departments using Facebook prophet. The manual ARIMA model took several manual steps and interpretation to produce similar results, however this method is not scalable. Hence facebook prophet is suited for forecasting at scale."
   ]
  },
  {
   "cell_type": "markdown",
   "metadata": {},
   "source": [
    "Consulted References:\n",
    "    Time series analysis\n",
    "    https://www.youtube.com/watch?v=Prpu_U5tKkE&t=406s"
   ]
  },
  {
   "cell_type": "markdown",
   "metadata": {},
   "source": [
    "To do:\n",
    "    \n",
    "    Simple regression using features\n",
    "    figure out why the moving average and exponential average "
   ]
  }
 ],
 "metadata": {
  "kernelspec": {
   "display_name": "Python 3",
   "language": "python",
   "name": "python3"
  },
  "language_info": {
   "codemirror_mode": {
    "name": "ipython",
    "version": 3
   },
   "file_extension": ".py",
   "mimetype": "text/x-python",
   "name": "python",
   "nbconvert_exporter": "python",
   "pygments_lexer": "ipython3",
   "version": "3.6.4"
  }
 },
 "nbformat": 4,
 "nbformat_minor": 2
}
