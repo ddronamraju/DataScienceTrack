{
 "cells": [
  {
   "cell_type": "markdown",
   "metadata": {},
   "source": [
    "### Introduction\n",
    "This dataset contains historical sales data including holiday promotion events. The goal of this project is to forecast sales for the stores. The data is available for download here: https://www.kaggle.com/c/walmart-recruiting-store-sales-forecasting"
   ]
  },
  {
   "cell_type": "code",
   "execution_count": null,
   "metadata": {},
   "outputs": [],
   "source": [
    "import pandas as pd\n",
    "import numpy as np\n",
    "import matplotlib.pyplot as plt\n",
    "import matplotlib as matplot\n",
    "from matplotlib import font_manager as fm\n",
    "import seaborn as sns\n",
    "import plotly.plotly as py\n",
    "import plotly.graph_objs as go\n",
    "import scipy.stats\n",
    "import statsmodels.api as sm\n",
    "import pprint\n",
    "import warnings\n",
    "from sklearn.metrics import precision_recall_fscore_support\n",
    "from tabulate import tabulate\n",
    "from imblearn.over_sampling import SMOTE\n",
    "from imblearn.over_sampling import ADASYN\n",
    "from imblearn.under_sampling import RandomUnderSampler\n",
    "from  sklearn.ensemble import RandomForestClassifier\n",
    "from xgboost import XGBClassifier\n",
    "from sklearn.metrics import precision_score\n",
    "from sklearn.metrics import recall_score\n",
    "warnings.filterwarnings(\"ignore\")\n",
    "\n",
    "%matplotlib inline"
   ]
  },
  {
   "cell_type": "code",
   "execution_count": null,
   "metadata": {},
   "outputs": [],
   "source": [
    "features = pd.read_csv('C:\\\\Users\\\\divya\\\\Documents\\\\git\\\\DataScienceTrack\\\\CapstoneProject 2-Walmart Sales Forecast\\\\features.csv')\n",
    "stores = pd.read_csv('C:\\\\Users\\\\divya\\\\Documents\\\\git\\\\DataScienceTrack\\\\CapstoneProject 2-Walmart Sales Forecast\\\\stores.csv')\n",
    "test = pd.read_csv('C:\\\\Users\\\\divya\\\\Documents\\\\git\\\\DataScienceTrack\\\\CapstoneProject 2-Walmart Sales Forecast\\\\test.csv')\n",
    "train = pd.read_csv('C:\\\\Users\\\\divya\\\\Documents\\\\git\\\\DataScienceTrack\\\\CapstoneProject 2-Walmart Sales Forecast\\\\train.csv')\n",
    "sample_sub = pd.read_csv('C:\\\\Users\\\\divya\\\\Documents\\\\git\\\\DataScienceTrack\\\\CapstoneProject 2-Walmart Sales Forecast\\\\sample_submission.csv')"
   ]
  },
  {
   "cell_type": "code",
   "execution_count": null,
   "metadata": {},
   "outputs": [],
   "source": [
    "features.head()\n",
    "stores.head()\n",
    "test.head()\n",
    "train.head()\n",
    "sample_sub.head()"
   ]
  }
 ],
 "metadata": {
  "kernelspec": {
   "display_name": "Python 3",
   "language": "python",
   "name": "python3"
  },
  "language_info": {
   "codemirror_mode": {
    "name": "ipython",
    "version": 3
   },
   "file_extension": ".py",
   "mimetype": "text/x-python",
   "name": "python",
   "nbconvert_exporter": "python",
   "pygments_lexer": "ipython3",
   "version": "3.6.4"
  }
 },
 "nbformat": 4,
 "nbformat_minor": 2
}
