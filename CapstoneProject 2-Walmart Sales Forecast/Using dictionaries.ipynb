{
 "cells": [
  {
   "cell_type": "code",
   "execution_count": 2,
   "metadata": {},
   "outputs": [
    {
     "name": "stdout",
     "output_type": "stream",
     "text": [
      "   sub_id  student_id\n",
      "0   10030       55000\n",
      "1   10030       55804\n",
      "2   10250       55804\n",
      "3   10510       55000\n"
     ]
    }
   ],
   "source": [
    "import pandas as pd\n",
    "#df=pd.read_csv(filename)\n",
    "df= pd.DataFrame([[10030,55000],[10030,55804],[10250,55804],[10510,55000]])\n",
    "df.columns=['sub_id','student_id']\n",
    "print(df)"
   ]
  },
  {
   "cell_type": "code",
   "execution_count": 3,
   "metadata": {},
   "outputs": [
    {
     "name": "stdout",
     "output_type": "stream",
     "text": [
      "        student_id\n",
      "sub_id            \n",
      "10030            2\n",
      "10250            1\n",
      "10510            1\n"
     ]
    }
   ],
   "source": [
    "print(df.groupby(['sub_id']).count())"
   ]
  },
  {
   "cell_type": "code",
   "execution_count": null,
   "metadata": {},
   "outputs": [],
   "source": [
    "select sub_id, count(student_id) \n",
    "from table \n",
    "groupby sub_id"
   ]
  },
  {
   "cell_type": "code",
   "execution_count": 9,
   "metadata": {},
   "outputs": [
    {
     "ename": "TypeError",
     "evalue": "unhashable type: 'list'",
     "output_type": "error",
     "traceback": [
      "\u001b[1;31m---------------------------------------------------------------------------\u001b[0m",
      "\u001b[1;31mTypeError\u001b[0m                                 Traceback (most recent call last)",
      "\u001b[1;32m<ipython-input-9-9222681bb047>\u001b[0m in \u001b[0;36m<module>\u001b[1;34m()\u001b[0m\n\u001b[1;32m----> 1\u001b[1;33m \u001b[0mdict_stud\u001b[0m\u001b[1;33m=\u001b[0m\u001b[1;33m{\u001b[0m\u001b[1;33m[\u001b[0m\u001b[1;36m10030\u001b[0m\u001b[1;33m,\u001b[0m\u001b[1;36m10030\u001b[0m\u001b[1;33m,\u001b[0m\u001b[1;36m10250\u001b[0m\u001b[1;33m,\u001b[0m\u001b[1;36m10510\u001b[0m\u001b[1;33m]\u001b[0m\u001b[1;33m:\u001b[0m\u001b[1;33m[\u001b[0m\u001b[1;36m55000\u001b[0m\u001b[1;33m,\u001b[0m\u001b[1;36m55804\u001b[0m\u001b[1;33m,\u001b[0m\u001b[1;36m55804\u001b[0m\u001b[1;33m,\u001b[0m\u001b[1;36m55000\u001b[0m\u001b[1;33m]\u001b[0m\u001b[1;33m}\u001b[0m\u001b[1;33m\u001b[0m\u001b[0m\n\u001b[0m\u001b[0;32m      2\u001b[0m \u001b[0mprint\u001b[0m\u001b[1;33m(\u001b[0m\u001b[0mdict_stud\u001b[0m\u001b[1;33m)\u001b[0m\u001b[1;33m\u001b[0m\u001b[0m\n",
      "\u001b[1;31mTypeError\u001b[0m: unhashable type: 'list'"
     ]
    }
   ],
   "source": [
    "dict_stud={[10030,55000],[10030,55804],[10250,55804],[10510,55000]}\n",
    "print(dict_stud)"
   ]
  },
  {
   "cell_type": "code",
   "execution_count": 8,
   "metadata": {},
   "outputs": [
    {
     "name": "stdout",
     "output_type": "stream",
     "text": [
      "sub_id\n",
      "stud_id\n"
     ]
    }
   ],
   "source": [
    "count_stud=[]\n",
    "for sub in dict_stud:\n",
    "   print(sub.)"
   ]
  },
  {
   "cell_type": "code",
   "execution_count": 11,
   "metadata": {},
   "outputs": [],
   "source": [
    "list_sub_stud=[[10030,55000],[10030,55804],[10250,55804],[10510,55000]]"
   ]
  },
  {
   "cell_type": "code",
   "execution_count": 12,
   "metadata": {},
   "outputs": [
    {
     "name": "stdout",
     "output_type": "stream",
     "text": [
      "[10030, 55000]\n",
      "[10030, 55804]\n",
      "[10250, 55804]\n",
      "[10510, 55000]\n"
     ]
    }
   ],
   "source": [
    "for sub in list_sub_stud:\n",
    "   print(sub)"
   ]
  },
  {
   "cell_type": "code",
   "execution_count": 22,
   "metadata": {},
   "outputs": [
    {
     "name": "stdout",
     "output_type": "stream",
     "text": [
      "{10030: 2, 10250: 1, 10510: 1}\n"
     ]
    }
   ],
   "source": [
    "dict_count={}\n",
    "i=0\n",
    "for sub in list_sub_stud:\n",
    "    if sub[0] in dict_count.keys():\n",
    "        dict_count[sub[0]]=dict_count[sub[0]]+1\n",
    "    else:\n",
    "        dict_count[sub[0]]=1\n",
    "\n",
    "print(dict_count)"
   ]
  },
  {
   "cell_type": "code",
   "execution_count": null,
   "metadata": {},
   "outputs": [],
   "source": []
  }
 ],
 "metadata": {
  "kernelspec": {
   "display_name": "Python 3",
   "language": "python",
   "name": "python3"
  }
 },
 "nbformat": 4,
 "nbformat_minor": 2
}
